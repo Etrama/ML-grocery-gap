{
 "cells": [
  {
   "cell_type": "code",
   "execution_count": 1,
   "metadata": {},
   "outputs": [],
   "source": [
    "import math\n",
    "\n",
    "from IPython import display\n",
    "from matplotlib import cm\n",
    "from matplotlib import gridspec\n",
    "from matplotlib import pyplot as plt\n",
    "import numpy as np\n",
    "import pandas as pd\n",
    "from sklearn import metrics\n",
    "import tensorflow as tf\n",
    "from tensorflow.python.data import Dataset\n",
    "\n",
    "tf.logging.set_verbosity(tf.logging.ERROR)\n",
    "pd.options.display.max_rows = 10\n",
    "pd.options.display.float_format = '{:.1f}'.format"
   ]
  },
  {
   "cell_type": "code",
   "execution_count": 2,
   "metadata": {},
   "outputs": [],
   "source": [
    "train_data_frame = pd.read_excel(r'C:\\Users\\rohishah\\Desktop\\ML_Hackathon\\traning_data.xlsx')"
   ]
  },
  {
   "cell_type": "code",
   "execution_count": 3,
   "metadata": {},
   "outputs": [],
   "source": [
    "train_data_frame['Population'] = train_data_frame['Population']/1000\n"
   ]
  },
  {
   "cell_type": "code",
   "execution_count": 4,
   "metadata": {},
   "outputs": [],
   "source": [
    "def my_input_fn(features, targets, batch_size=1, shuffle=True, num_epochs=None):\n",
    "    # Convert pandas data into a dict of np arrays.\n",
    "    features = {key:np.array(value) for key,value in dict(features).items()}\n",
    "    # Construct a dataset, and configure batching/repeating.\n",
    "    ds = Dataset.from_tensor_slices((features,targets)) # warning: 2GB limit\n",
    "    ds = ds.batch(batch_size).repeat(num_epochs)\n",
    "    \n",
    "    # Shuffle the data, if specified.\n",
    "    if shuffle:\n",
    "      ds = ds.shuffle(buffer_size=10000)\n",
    "    \n",
    "    # Return the next batch of data.\n",
    "    features, labels = ds.make_one_shot_iterator().get_next()\n",
    "    return features, labels"
   ]
  },
  {
   "cell_type": "code",
   "execution_count": 5,
   "metadata": {},
   "outputs": [],
   "source": [
    "def train_model(learning_rate, steps, batch_size, input_feature=\"Population\"):\n",
    "    periods = 10\n",
    "    steps_per_period = steps / periods\n",
    "    my_feature = input_feature\n",
    "    my_feature_data = train_data_frame[[my_feature]]\n",
    "    my_label = \"Stores\"\n",
    "    targets = train_data_frame[my_label]\n",
    "\n",
    "      # Create feature columns.\n",
    "    feature_columns = [tf.feature_column.numeric_column(my_feature)]\n",
    "\n",
    "      # Create input functions.\n",
    "    training_input_fn = lambda:my_input_fn(my_feature_data, targets, batch_size=batch_size)\n",
    "    prediction_input_fn = lambda: my_input_fn(my_feature_data, targets, num_epochs=1, shuffle=False)\n",
    "    # Create a linear regressor object.\n",
    "    my_optimizer = tf.train.GradientDescentOptimizer(learning_rate=learning_rate)\n",
    "    my_optimizer = tf.contrib.estimator.clip_gradients_by_norm(my_optimizer, 5.0)\n",
    "    linear_regressor = tf.estimator.LinearRegressor(\n",
    "          feature_columns=feature_columns,\n",
    "          optimizer=my_optimizer\n",
    "      )\n",
    "\n",
    "      # Set up to plot the state of our model's line each period.\n",
    "    plt.figure(figsize=(15, 6))\n",
    "    plt.subplot(1, 2, 1)\n",
    "    plt.title(\"Learned Line by Period\")\n",
    "    plt.ylabel(my_label)\n",
    "    plt.xlabel(my_feature)\n",
    "    sample = train_data_frame.sample(n=300)\n",
    "    plt.scatter(sample[my_feature], sample[my_label])\n",
    "    colors = [cm.coolwarm(x) for x in np.linspace(-1, 1, periods)]\n",
    "\n",
    "      # Train the model, but do so inside a loop so that we can periodically assess\n",
    "      # loss metrics.\n",
    "    print (\"Training model...\")\n",
    "    print (\"RMSE (on training data):\")\n",
    "    root_mean_squared_errors = []\n",
    "    for period in range (0, periods):\n",
    "        # Train the model, starting from the prior state.\n",
    "        linear_regressor.train(\n",
    "            input_fn=training_input_fn,\n",
    "            steps=steps_per_period\n",
    "        )\n",
    "        # Take a break and compute predictions.\n",
    "        predictions = linear_regressor.predict(input_fn=prediction_input_fn)\n",
    "        predictions = np.array([item['predictions'][0] for item in predictions])\n",
    "        # Compute loss.\n",
    "        root_mean_squared_error = math.sqrt(\n",
    "            metrics.mean_squared_error(predictions, targets))\n",
    "        # Occasionally print the current loss.\n",
    "        print(period, root_mean_squared_error)\n",
    "        # Add the loss metrics from this period to our list.\n",
    "        root_mean_squared_errors.append(root_mean_squared_error)\n",
    "        # Finally, track the weights and biases over time.\n",
    "        # Apply some math to ensure that the data and line are plotted neatly.\n",
    "        y_extents = np.array([0, sample[my_label].max()])\n",
    "     \n",
    "        weight = linear_regressor.get_variable_value('linear/linear_model/{}/weights'.format(input_feature))[0]\n",
    "        bias = linear_regressor.get_variable_value('linear/linear_model/bias_weights')\n",
    "       \n",
    "\n",
    "        x_extents = (y_extents - bias) / weight\n",
    "        x_extents = np.maximum(np.minimum(x_extents,\n",
    "                                          sample[my_feature].max()),\n",
    "                               sample[my_feature].min())\n",
    "        y_extents = weight * x_extents + bias\n",
    "        plt.plot(x_extents, y_extents, color=colors[period]) \n",
    "    print (\"Model training finished.\")\n",
    "\n",
    "  # Output a graph of loss metrics over periods.\n",
    "    plt.subplot(1, 2, 2)\n",
    "    plt.ylabel('RMSE')\n",
    "    plt.xlabel('Periods')\n",
    "    plt.title(\"Root Mean Squared Error vs. Periods\")\n",
    "    plt.tight_layout()\n",
    "    plt.plot(root_mean_squared_errors)\n",
    "    \n",
    "  # Output a table with calibration data.\n",
    "    calibration_data = pd.DataFrame()\n",
    "    calibration_data[\"predictions\"] = pd.Series(predictions)\n",
    "    calibration_data[\"targets\"] = pd.Series(targets)\n",
    "    display.display(calibration_data.describe())\n",
    "\n",
    "    print (root_mean_squared_error)\n",
    "    return linear_regressor"
   ]
  },
  {
   "cell_type": "code",
   "execution_count": 6,
   "metadata": {},
   "outputs": [
    {
     "name": "stdout",
     "output_type": "stream",
     "text": [
      "Training model...\n",
      "RMSE (on training data):\n",
      "0 68.47187790056793\n",
      "1 56.04056364535332\n",
      "2 49.15270379995809\n",
      "3 42.3670435370355\n",
      "4 42.8921600619669\n",
      "5 40.057207277974086\n",
      "6 39.90230917509368\n",
      "7 40.0796401921056\n",
      "8 40.75895147750894\n",
      "9 39.92756270962407\n",
      "Model training finished.\n"
     ]
    },
    {
     "data": {
      "text/html": [
       "<div>\n",
       "<style scoped>\n",
       "    .dataframe tbody tr th:only-of-type {\n",
       "        vertical-align: middle;\n",
       "    }\n",
       "\n",
       "    .dataframe tbody tr th {\n",
       "        vertical-align: top;\n",
       "    }\n",
       "\n",
       "    .dataframe thead th {\n",
       "        text-align: right;\n",
       "    }\n",
       "</style>\n",
       "<table border=\"1\" class=\"dataframe\">\n",
       "  <thead>\n",
       "    <tr style=\"text-align: right;\">\n",
       "      <th></th>\n",
       "      <th>predictions</th>\n",
       "      <th>targets</th>\n",
       "    </tr>\n",
       "  </thead>\n",
       "  <tbody>\n",
       "    <tr>\n",
       "      <th>count</th>\n",
       "      <td>3142.0</td>\n",
       "      <td>3142.0</td>\n",
       "    </tr>\n",
       "    <tr>\n",
       "      <th>mean</th>\n",
       "      <td>22.0</td>\n",
       "      <td>20.2</td>\n",
       "    </tr>\n",
       "    <tr>\n",
       "      <th>std</th>\n",
       "      <td>70.0</td>\n",
       "      <td>79.7</td>\n",
       "    </tr>\n",
       "    <tr>\n",
       "      <th>min</th>\n",
       "      <td>0.0</td>\n",
       "      <td>0.0</td>\n",
       "    </tr>\n",
       "    <tr>\n",
       "      <th>25%</th>\n",
       "      <td>2.5</td>\n",
       "      <td>3.0</td>\n",
       "    </tr>\n",
       "    <tr>\n",
       "      <th>50%</th>\n",
       "      <td>5.8</td>\n",
       "      <td>6.0</td>\n",
       "    </tr>\n",
       "    <tr>\n",
       "      <th>75%</th>\n",
       "      <td>15.0</td>\n",
       "      <td>13.0</td>\n",
       "    </tr>\n",
       "    <tr>\n",
       "      <th>max</th>\n",
       "      <td>2196.3</td>\n",
       "      <td>2027.0</td>\n",
       "    </tr>\n",
       "  </tbody>\n",
       "</table>\n",
       "</div>"
      ],
      "text/plain": [
       "       predictions  targets\n",
       "count       3142.0   3142.0\n",
       "mean          22.0     20.2\n",
       "std           70.0     79.7\n",
       "min            0.0      0.0\n",
       "25%            2.5      3.0\n",
       "50%            5.8      6.0\n",
       "75%           15.0     13.0\n",
       "max         2196.3   2027.0"
      ]
     },
     "metadata": {},
     "output_type": "display_data"
    },
    {
     "name": "stdout",
     "output_type": "stream",
     "text": [
      "39.92756270962407\n"
     ]
    },
    {
     "data": {
      "image/png": "[encoded data removed]",
      "text/plain": [
       "<Figure size 1080x432 with 2 Axes>"
      ]
     },
     "metadata": {},
     "output_type": "display_data"
    }
   ],
   "source": [
    "linear_regressor = train_model(\n",
    "                learning_rate=0.001,\n",
    "                steps=100,\n",
    "                batch_size=1 )"
   ]
  },
  {
   "cell_type": "code",
   "execution_count": 7,
   "metadata": {},
   "outputs": [
    {
     "data": {
      "text/html": [
       "<div>\n",
       "<style scoped>\n",
       "    .dataframe tbody tr th:only-of-type {\n",
       "        vertical-align: middle;\n",
       "    }\n",
       "\n",
       "    .dataframe tbody tr th {\n",
       "        vertical-align: top;\n",
       "    }\n",
       "\n",
       "    .dataframe thead th {\n",
       "        text-align: right;\n",
       "    }\n",
       "</style>\n",
       "<table border=\"1\" class=\"dataframe\">\n",
       "  <thead>\n",
       "    <tr style=\"text-align: right;\">\n",
       "      <th></th>\n",
       "      <th>Population</th>\n",
       "      <th>Stores</th>\n",
       "      <th>target</th>\n",
       "    </tr>\n",
       "  </thead>\n",
       "  <tbody>\n",
       "    <tr>\n",
       "      <th>Population</th>\n",
       "      <td>1.0</td>\n",
       "      <td>0.9</td>\n",
       "      <td>0.9</td>\n",
       "    </tr>\n",
       "    <tr>\n",
       "      <th>Stores</th>\n",
       "      <td>0.9</td>\n",
       "      <td>1.0</td>\n",
       "      <td>1.0</td>\n",
       "    </tr>\n",
       "    <tr>\n",
       "      <th>target</th>\n",
       "      <td>0.9</td>\n",
       "      <td>1.0</td>\n",
       "      <td>1.0</td>\n",
       "    </tr>\n",
       "  </tbody>\n",
       "</table>\n",
       "</div>"
      ],
      "text/plain": [
       "            Population  Stores  target\n",
       "Population         1.0     0.9     0.9\n",
       "Stores             0.9     1.0     1.0\n",
       "target             0.9     1.0     1.0"
      ]
     },
     "execution_count": 7,
     "metadata": {},
     "output_type": "execute_result"
    }
   ],
   "source": [
    "correlation_dataframe = train_data_frame.copy()\n",
    "correlation_dataframe[\"target\"] = train_data_frame[\"Stores\"]\n",
    "correlation_dataframe.corr()"
   ]
  },
  {
   "cell_type": "code",
   "execution_count": 8,
   "metadata": {},
   "outputs": [],
   "source": [
    "testing_data_frame = pd.read_excel(r'C:\\Users\\rohishah\\Desktop\\ML_Hackathon\\testing_validation.xlsx')"
   ]
  },
  {
   "cell_type": "code",
   "execution_count": 9,
   "metadata": {},
   "outputs": [],
   "source": [
    "testing_data_frame['Population'] = testing_data_frame['Population']/1000"
   ]
  },
  {
   "cell_type": "code",
   "execution_count": 10,
   "metadata": {},
   "outputs": [],
   "source": [
    " prediction_test_input_fn = lambda: my_input_fn(testing_data_frame[[\"Population\"]], testing_data_frame[\"Stores\"], num_epochs=1, shuffle=False)"
   ]
  },
  {
   "cell_type": "code",
   "execution_count": 11,
   "metadata": {},
   "outputs": [],
   "source": [
    "test_prediction = linear_regressor.predict(input_fn=prediction_test_input_fn)\n",
    "test_predictions = np.array([item['predictions'][0] for item in test_prediction])"
   ]
  },
  {
   "cell_type": "code",
   "execution_count": 12,
   "metadata": {},
   "outputs": [],
   "source": [
    "root_mean_squared_error_test = math.sqrt(\n",
    "            metrics.mean_squared_error(test_predictions, testing_data_frame[\"Stores\"]))"
   ]
  },
  {
   "cell_type": "code",
   "execution_count": 13,
   "metadata": {},
   "outputs": [
    {
     "data": {
      "text/plain": [
       "51.95283672088116"
      ]
     },
     "execution_count": 13,
     "metadata": {},
     "output_type": "execute_result"
    }
   ],
   "source": [
    "root_mean_squared_error_test"
   ]
  }
 ],
 "metadata": {
  "kernelspec": {
   "display_name": "Python 3",
   "language": "python",
   "name": "python3"
  },
  "language_info": {
   "codemirror_mode": {
    "name": "ipython",
    "version": 3
   },
   "file_extension": ".py",
   "mimetype": "text/x-python",
   "name": "python",
   "nbconvert_exporter": "python",
   "pygments_lexer": "ipython3",
   "version": "3.5.5"
  }
 },
 "nbformat": 4,
 "nbformat_minor": 2
}
