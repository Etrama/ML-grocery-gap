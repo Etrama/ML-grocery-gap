{
 "cells": [
  {
   "cell_type": "code",
   "execution_count": 1,
   "metadata": {},
   "outputs": [],
   "source": [
    "import pandas as pd\n",
    "import seaborn as sns"
   ]
  },
  {
   "cell_type": "code",
   "execution_count": 2,
   "metadata": {},
   "outputs": [],
   "source": [
    "### Read in the data"
   ]
  },
  {
   "cell_type": "code",
   "execution_count": 3,
   "metadata": {},
   "outputs": [],
   "source": [
    "# List sheetnames in excel file from USDA\n",
    "xl = pd.ExcelFile('DataDownload.xls')\n",
    "xl.sheet_names  # see all sheet names"
   ]
  },
  {
   "cell_type": "code",
   "execution_count": 4,
   "metadata": {},
   "outputs": [],
   "source": [
    "# Read in county-level data\n",
    "stores=pd.read_excel('DataDownload.xls', sheet_name='STORES')\n",
    "stores.head()"
   ]
  },
  {
   "cell_type": "code",
   "execution_count": 5,
   "metadata": {},
   "outputs": [],
   "source": [
    "stores.columns"
   ]
  },
  {
   "cell_type": "code",
   "execution_count": 6,
   "metadata": {},
   "outputs": [],
   "source": [
    "# create target variable\n",
    "stores['decline']=0\n",
    "stores.loc[stores['PCH_GROC_09_14']<0, 'decline']=1\n",
    "stores['decline'].value_counts()"
   ]
  },
  {
   "cell_type": "code",
   "execution_count": 7,
   "metadata": {},
   "outputs": [],
   "source": [
    "stores['PCH_GROC_09_14'].describe()"
   ]
  },
  {
   "cell_type": "code",
   "execution_count": 8,
   "metadata": {},
   "outputs": [],
   "source": [
    "# possible features\n",
    "stores.columns"
   ]
  },
  {
   "cell_type": "markdown",
   "metadata": {},
   "source": [
    "Percent change:  \n",
    "PCH_GROCPTH_09_14  \n",
    "PCH_SUPERCPTH_09_14  \n",
    "PCH_CONVSPTH_09_14  \n",
    "PCH_SPECSPTH_09_14  \n",
    "PCH_SNAPSPTH_12_16  \n",
    "PCH_WICSPTH_08_12  "
   ]
  },
  {
   "cell_type": "markdown",
   "metadata": {},
   "source": [
    "Percent change per 1000 population:  \n",
    "PCH_SUPERC_09_14  \n",
    "PCH_CONVS_09_14  \n",
    "PCH_SPECS_09_14  \n",
    "PCH_SNAPS_12_16  \n",
    "PCH_WICS_08_12  "
   ]
  },
  {
   "cell_type": "code",
   "execution_count": 9,
   "metadata": {},
   "outputs": [],
   "source": [
    "# drop missing values\n",
    "stores=stores.dropna(how='any')"
   ]
  },
  {
   "cell_type": "markdown",
   "metadata": {},
   "source": [
    "## Exploratory Data Analysis"
   ]
  },
  {
   "cell_type": "code",
   "execution_count": 10,
   "metadata": {},
   "outputs": [],
   "source": [
    "stores['PCH_WICSPTH_08_12'].describe()"
   ]
  },
  {
   "cell_type": "code",
   "execution_count": 11,
   "metadata": {},
   "outputs": [],
   "source": [
    "# Grocery stores/1,000 pop (% change), 2009-14\n",
    "sns.barplot(y='PCH_GROCPTH_09_14', x='decline', data=stores);"
   ]
  },
  {
   "cell_type": "code",
   "execution_count": 12,
   "metadata": {},
   "outputs": [],
   "source": [
    "# Supercenters & club stores/1,000 pop (% change), 2007-14\n",
    "sns.barplot(y='PCH_SUPERCPTH_09_14', x='decline', data=stores);"
   ]
  },
  {
   "cell_type": "code",
   "execution_count": 13,
   "metadata": {},
   "outputs": [],
   "source": [
    "# Convenience stores/1,000 pop (% change), 2009-14\n",
    "sns.barplot(y='PCH_CONVSPTH_09_14', x='decline', data=stores);"
   ]
  },
  {
   "cell_type": "code",
   "execution_count": 14,
   "metadata": {},
   "outputs": [],
   "source": [
    "# Specialized food stores/1,000 pop (% change), 2009-14\n",
    "sns.barplot(y='PCH_SPECSPTH_09_14', x='decline', data=stores);"
   ]
  },
  {
   "cell_type": "code",
   "execution_count": 15,
   "metadata": {},
   "outputs": [],
   "source": [
    "# SNAP-authorized stores/1,000 pop (% change), 2012-16\n",
    "sns.barplot(y='PCH_SNAPSPTH_12_16', x='decline', data=stores);"
   ]
  },
  {
   "cell_type": "code",
   "execution_count": 16,
   "metadata": {},
   "outputs": [],
   "source": [
    "# WIC-authorized stores/1,000 pop (% change), 2008-12\n",
    "sns.barplot(y='PCH_WICSPTH_08_12', x='decline', data=stores);"
   ]
  },
  {
   "cell_type": "markdown",
   "metadata": {},
   "source": [
    "## Modeling"
   ]
  },
  {
   "cell_type": "code",
   "execution_count": 17,
   "metadata": {},
   "outputs": [],
   "source": [
    "import sklearn "
   ]
  },
  {
   "cell_type": "code",
   "execution_count": 18,
   "metadata": {},
   "outputs": [],
   "source": [
    "from sklearn.cross_validation import train_test_split"
   ]
  },
  {
   "cell_type": "code",
   "execution_count": 19,
   "metadata": {},
   "outputs": [],
   "source": [
    "stores.columns"
   ]
  },
  {
   "cell_type": "code",
   "execution_count": 20,
   "metadata": {},
   "outputs": [],
   "source": [
    "X = stores[['PCH_GROCPTH_09_14', 'PCH_SUPERCPTH_09_14', 'PCH_CONVSPTH_09_14', 'PCH_SPECSPTH_09_14', 'PCH_SNAPSPTH_12_16', 'PCH_WICSPTH_08_12']]\n",
    "y = stores['decline']"
   ]
  },
  {
   "cell_type": "code",
   "execution_count": 22,
   "metadata": {},
   "outputs": [],
   "source": [
    "X_train, X_test, y_train, y_test = train_test_split(X, y, \n",
    "                                                    test_size=20, \n",
    "                                                    random_state=0)"
   ]
  },
  {
   "cell_type": "code",
   "execution_count": 23,
   "metadata": {},
   "outputs": [],
   "source": [
    "from sklearn.linear_model import LogisticRegression\n",
    "\n",
    "model = LogisticRegression()\n",
    "model = model.fit(X_train, y_train)\n"
   ]
  },
  {
   "cell_type": "code",
   "execution_count": null,
   "metadata": {},
   "outputs": [],
   "source": []
  }
 ],
 "metadata": {
  "kernelspec": {
   "display_name": "Python 3",
   "language": "python",
   "name": "python3"
  },
  "language_info": {
   "codemirror_mode": {
    "name": "ipython",
    "version": 3
   },
   "file_extension": ".py",
   "mimetype": "text/x-python",
   "name": "python",
   "nbconvert_exporter": "python",
   "pygments_lexer": "ipython3",
   "version": "3.6.4"
  }
 },
 "nbformat": 4,
 "nbformat_minor": 2
}
