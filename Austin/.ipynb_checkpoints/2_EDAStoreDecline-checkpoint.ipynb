{
 "cells": [
  {
   "cell_type": "code",
   "execution_count": 1,
   "metadata": {},
   "outputs": [],
   "source": [
    "# Import packages\n",
    "import numpy as np\n",
    "import pandas as pd\n",
    "import matplotlib.pyplot as plt\n",
    "%matplotlib inline\n",
    "import seaborn as sns\n",
    "import scipy.stats as stats\n",
    "sns.set_style('darkgrid')\n",
    "sns.set_context('talk')\n",
    "sns.set_palette('OrRd')"
   ]
  },
  {
   "cell_type": "code",
   "execution_count": 2,
   "metadata": {},
   "outputs": [
    {
     "data": {
      "text/html": [
       "<div>\n",
       "<style scoped>\n",
       "    .dataframe tbody tr th:only-of-type {\n",
       "        vertical-align: middle;\n",
       "    }\n",
       "\n",
       "    .dataframe tbody tr th {\n",
       "        vertical-align: top;\n",
       "    }\n",
       "\n",
       "    .dataframe thead th {\n",
       "        text-align: right;\n",
       "    }\n",
       "</style>\n",
       "<table border=\"1\" class=\"dataframe\">\n",
       "  <thead>\n",
       "    <tr style=\"text-align: right;\">\n",
       "      <th></th>\n",
       "      <th>FIPS</th>\n",
       "      <th>State</th>\n",
       "      <th>County</th>\n",
       "      <th>decline</th>\n",
       "      <th>GROCPTH09</th>\n",
       "      <th>WICSPTH08</th>\n",
       "      <th>FFRPTH09</th>\n",
       "      <th>FSRPTH09</th>\n",
       "      <th>PC_FFRSALES07</th>\n",
       "      <th>PC_FSRSALES07</th>\n",
       "      <th>...</th>\n",
       "      <th>METRO13</th>\n",
       "      <th>POPLOSS10</th>\n",
       "      <th>MEDHHINC15</th>\n",
       "      <th>PCT_LACCESS_POP10</th>\n",
       "      <th>SNAP_PART_RATE08</th>\n",
       "      <th>PCT_NSLP09</th>\n",
       "      <th>PCT_WIC09</th>\n",
       "      <th>PCT_CACFP09</th>\n",
       "      <th>PCT_DIABETES_ADULTS08</th>\n",
       "      <th>PCT_OBESE_ADULTS08</th>\n",
       "    </tr>\n",
       "  </thead>\n",
       "  <tbody>\n",
       "    <tr>\n",
       "      <th>0</th>\n",
       "      <td>1001</td>\n",
       "      <td>AL</td>\n",
       "      <td>Autauga</td>\n",
       "      <td>1</td>\n",
       "      <td>0.110834</td>\n",
       "      <td>0.119156</td>\n",
       "      <td>0.554170</td>\n",
       "      <td>0.628059</td>\n",
       "      <td>649.511367</td>\n",
       "      <td>484.381507</td>\n",
       "      <td>...</td>\n",
       "      <td>1</td>\n",
       "      <td>0.0</td>\n",
       "      <td>56580.0</td>\n",
       "      <td>33.769657</td>\n",
       "      <td>67</td>\n",
       "      <td>12.315055</td>\n",
       "      <td>2.990417</td>\n",
       "      <td>0.91609</td>\n",
       "      <td>11.4</td>\n",
       "      <td>31.5</td>\n",
       "    </tr>\n",
       "    <tr>\n",
       "      <th>1</th>\n",
       "      <td>1003</td>\n",
       "      <td>AL</td>\n",
       "      <td>Baldwin</td>\n",
       "      <td>0</td>\n",
       "      <td>0.133775</td>\n",
       "      <td>0.141875</td>\n",
       "      <td>0.624282</td>\n",
       "      <td>1.125938</td>\n",
       "      <td>649.511367</td>\n",
       "      <td>484.381507</td>\n",
       "      <td>...</td>\n",
       "      <td>1</td>\n",
       "      <td>0.0</td>\n",
       "      <td>52387.0</td>\n",
       "      <td>19.318473</td>\n",
       "      <td>67</td>\n",
       "      <td>12.315055</td>\n",
       "      <td>2.990417</td>\n",
       "      <td>0.91609</td>\n",
       "      <td>9.8</td>\n",
       "      <td>26.2</td>\n",
       "    </tr>\n",
       "    <tr>\n",
       "      <th>2</th>\n",
       "      <td>1005</td>\n",
       "      <td>AL</td>\n",
       "      <td>Barbour</td>\n",
       "      <td>0</td>\n",
       "      <td>0.180786</td>\n",
       "      <td>0.201099</td>\n",
       "      <td>0.759301</td>\n",
       "      <td>0.433887</td>\n",
       "      <td>649.511367</td>\n",
       "      <td>484.381507</td>\n",
       "      <td>...</td>\n",
       "      <td>0</td>\n",
       "      <td>0.0</td>\n",
       "      <td>31433.0</td>\n",
       "      <td>20.840972</td>\n",
       "      <td>67</td>\n",
       "      <td>12.315055</td>\n",
       "      <td>2.990417</td>\n",
       "      <td>0.91609</td>\n",
       "      <td>13.6</td>\n",
       "      <td>37.6</td>\n",
       "    </tr>\n",
       "    <tr>\n",
       "      <th>3</th>\n",
       "      <td>1007</td>\n",
       "      <td>AL</td>\n",
       "      <td>Bibb</td>\n",
       "      <td>1</td>\n",
       "      <td>0.261540</td>\n",
       "      <td>0.277919</td>\n",
       "      <td>0.305131</td>\n",
       "      <td>0.261540</td>\n",
       "      <td>649.511367</td>\n",
       "      <td>484.381507</td>\n",
       "      <td>...</td>\n",
       "      <td>1</td>\n",
       "      <td>0.0</td>\n",
       "      <td>40767.0</td>\n",
       "      <td>4.559753</td>\n",
       "      <td>67</td>\n",
       "      <td>12.315055</td>\n",
       "      <td>2.990417</td>\n",
       "      <td>0.91609</td>\n",
       "      <td>11.1</td>\n",
       "      <td>32.3</td>\n",
       "    </tr>\n",
       "    <tr>\n",
       "      <th>4</th>\n",
       "      <td>1009</td>\n",
       "      <td>AL</td>\n",
       "      <td>Blount</td>\n",
       "      <td>1</td>\n",
       "      <td>0.104637</td>\n",
       "      <td>0.173028</td>\n",
       "      <td>0.418549</td>\n",
       "      <td>0.331351</td>\n",
       "      <td>649.511367</td>\n",
       "      <td>484.381507</td>\n",
       "      <td>...</td>\n",
       "      <td>1</td>\n",
       "      <td>0.0</td>\n",
       "      <td>50487.0</td>\n",
       "      <td>2.700840</td>\n",
       "      <td>67</td>\n",
       "      <td>12.315055</td>\n",
       "      <td>2.990417</td>\n",
       "      <td>0.91609</td>\n",
       "      <td>11.4</td>\n",
       "      <td>31.9</td>\n",
       "    </tr>\n",
       "  </tbody>\n",
       "</table>\n",
       "<p>5 rows × 24 columns</p>\n",
       "</div>"
      ],
      "text/plain": [
       "   FIPS State   County  decline  GROCPTH09  WICSPTH08  FFRPTH09  FSRPTH09  \\\n",
       "0  1001    AL  Autauga        1   0.110834   0.119156  0.554170  0.628059   \n",
       "1  1003    AL  Baldwin        0   0.133775   0.141875  0.624282  1.125938   \n",
       "2  1005    AL  Barbour        0   0.180786   0.201099  0.759301  0.433887   \n",
       "3  1007    AL     Bibb        1   0.261540   0.277919  0.305131  0.261540   \n",
       "4  1009    AL   Blount        1   0.104637   0.173028  0.418549  0.331351   \n",
       "\n",
       "   PC_FFRSALES07  PC_FSRSALES07         ...          METRO13  POPLOSS10  \\\n",
       "0     649.511367     484.381507         ...                1        0.0   \n",
       "1     649.511367     484.381507         ...                1        0.0   \n",
       "2     649.511367     484.381507         ...                0        0.0   \n",
       "3     649.511367     484.381507         ...                1        0.0   \n",
       "4     649.511367     484.381507         ...                1        0.0   \n",
       "\n",
       "   MEDHHINC15  PCT_LACCESS_POP10  SNAP_PART_RATE08  PCT_NSLP09  PCT_WIC09  \\\n",
       "0     56580.0          33.769657                67   12.315055   2.990417   \n",
       "1     52387.0          19.318473                67   12.315055   2.990417   \n",
       "2     31433.0          20.840972                67   12.315055   2.990417   \n",
       "3     40767.0           4.559753                67   12.315055   2.990417   \n",
       "4     50487.0           2.700840                67   12.315055   2.990417   \n",
       "\n",
       "   PCT_CACFP09  PCT_DIABETES_ADULTS08  PCT_OBESE_ADULTS08  \n",
       "0      0.91609                   11.4                31.5  \n",
       "1      0.91609                    9.8                26.2  \n",
       "2      0.91609                   13.6                37.6  \n",
       "3      0.91609                   11.1                32.3  \n",
       "4      0.91609                   11.4                31.9  \n",
       "\n",
       "[5 rows x 24 columns]"
      ]
     },
     "execution_count": 2,
     "metadata": {},
     "output_type": "execute_result"
    }
   ],
   "source": [
    "counties=pd.read_csv('counties_storedecline.csv')\n",
    "counties.head()"
   ]
  },
  {
   "cell_type": "markdown",
   "metadata": {},
   "source": [
    "## Confirm data is ready for analysis"
   ]
  },
  {
   "cell_type": "code",
   "execution_count": 3,
   "metadata": {},
   "outputs": [
    {
     "data": {
      "text/plain": [
       "FIPS                     0\n",
       "State                    0\n",
       "County                   0\n",
       "decline                  0\n",
       "GROCPTH09                0\n",
       "WICSPTH08                0\n",
       "FFRPTH09                 0\n",
       "FSRPTH09                 0\n",
       "PC_FFRSALES07            0\n",
       "PC_FSRSALES07            0\n",
       "PCT_NHWHITE10            0\n",
       "PCT_65OLDER10            0\n",
       "PCT_18YOUNGER10          0\n",
       "PERPOV10                 0\n",
       "METRO13                  0\n",
       "POPLOSS10                0\n",
       "MEDHHINC15               0\n",
       "PCT_LACCESS_POP10        0\n",
       "SNAP_PART_RATE08         0\n",
       "PCT_NSLP09               0\n",
       "PCT_WIC09                0\n",
       "PCT_CACFP09              0\n",
       "PCT_DIABETES_ADULTS08    0\n",
       "PCT_OBESE_ADULTS08       0\n",
       "dtype: int64"
      ]
     },
     "execution_count": 3,
     "metadata": {},
     "output_type": "execute_result"
    }
   ],
   "source": [
    "# Confirm no missing values\n",
    "counties.isnull().sum()"
   ]
  },
  {
   "cell_type": "code",
   "execution_count": 4,
   "metadata": {},
   "outputs": [
    {
     "data": {
      "text/plain": [
       "FIPS                       int64\n",
       "State                     object\n",
       "County                    object\n",
       "decline                    int64\n",
       "GROCPTH09                float64\n",
       "WICSPTH08                float64\n",
       "FFRPTH09                 float64\n",
       "FSRPTH09                 float64\n",
       "PC_FFRSALES07            float64\n",
       "PC_FSRSALES07            float64\n",
       "PCT_NHWHITE10            float64\n",
       "PCT_65OLDER10            float64\n",
       "PCT_18YOUNGER10          float64\n",
       "PERPOV10                   int64\n",
       "METRO13                    int64\n",
       "POPLOSS10                float64\n",
       "MEDHHINC15               float64\n",
       "PCT_LACCESS_POP10        float64\n",
       "SNAP_PART_RATE08           int64\n",
       "PCT_NSLP09               float64\n",
       "PCT_WIC09                float64\n",
       "PCT_CACFP09              float64\n",
       "PCT_DIABETES_ADULTS08    float64\n",
       "PCT_OBESE_ADULTS08       float64\n",
       "dtype: object"
      ]
     },
     "execution_count": 4,
     "metadata": {},
     "output_type": "execute_result"
    }
   ],
   "source": [
    "# Confirm all columns are numeric\n",
    "counties.dtypes"
   ]
  },
  {
   "cell_type": "code",
   "execution_count": 5,
   "metadata": {},
   "outputs": [
    {
     "data": {
      "text/plain": [
       "FIPS                          1001\n",
       "State                           AK\n",
       "County                   Abbeville\n",
       "decline                          0\n",
       "GROCPTH09                        0\n",
       "WICSPTH08                        0\n",
       "FFRPTH09                         0\n",
       "FSRPTH09                         0\n",
       "PC_FFRSALES07              402.098\n",
       "PC_FSRSALES07              371.845\n",
       "PCT_NHWHITE10              2.86041\n",
       "PCT_65OLDER10               3.4706\n",
       "PCT_18YOUNGER10            9.11154\n",
       "PERPOV10                         0\n",
       "METRO13                          0\n",
       "POPLOSS10                        0\n",
       "MEDHHINC15                   22894\n",
       "PCT_LACCESS_POP10                0\n",
       "SNAP_PART_RATE08                48\n",
       "PCT_NSLP09                  6.9543\n",
       "PCT_WIC09                  1.38626\n",
       "PCT_CACFP09               0.387918\n",
       "PCT_DIABETES_ADULTS08            3\n",
       "PCT_OBESE_ADULTS08            11.7\n",
       "dtype: object"
      ]
     },
     "execution_count": 5,
     "metadata": {},
     "output_type": "execute_result"
    }
   ],
   "source": [
    "# Confirm no extreme minimums\n",
    "counties.min()"
   ]
  },
  {
   "cell_type": "code",
   "execution_count": 6,
   "metadata": {},
   "outputs": [
    {
     "data": {
      "text/plain": [
       "FIPS                       56045\n",
       "State                         WY\n",
       "County                   Ziebach\n",
       "decline                        1\n",
       "GROCPTH09                3.07377\n",
       "WICSPTH08                4.61894\n",
       "FFRPTH09                 6.08828\n",
       "FSRPTH09                 13.6986\n",
       "PC_FFRSALES07            1043.86\n",
       "PC_FSRSALES07            1930.16\n",
       "PCT_NHWHITE10            99.1632\n",
       "PCT_65OLDER10            43.3847\n",
       "PCT_18YOUNGER10          40.1269\n",
       "PERPOV10                       1\n",
       "METRO13                        1\n",
       "POPLOSS10                      1\n",
       "MEDHHINC15                125900\n",
       "PCT_LACCESS_POP10            100\n",
       "SNAP_PART_RATE08             100\n",
       "PCT_NSLP09               13.7438\n",
       "PCT_WIC09                5.07887\n",
       "PCT_CACFP09              2.55255\n",
       "PCT_DIABETES_ADULTS08       18.2\n",
       "PCT_OBESE_ADULTS08          43.7\n",
       "dtype: object"
      ]
     },
     "execution_count": 6,
     "metadata": {},
     "output_type": "execute_result"
    }
   ],
   "source": [
    "# Confirm no extreme maximums\n",
    "counties.max()"
   ]
  },
  {
   "cell_type": "code",
   "execution_count": 7,
   "metadata": {},
   "outputs": [
    {
     "data": {
      "text/plain": [
       "1    1739\n",
       "0    1395\n",
       "Name: decline, dtype: int64"
      ]
     },
     "execution_count": 7,
     "metadata": {},
     "output_type": "execute_result"
    }
   ],
   "source": [
    "# Is the target imbalanced?\n",
    "counties['decline'].value_counts()"
   ]
  },
  {
   "cell_type": "markdown",
   "metadata": {},
   "source": [
    "## Store Features\n",
    "Grocery stores (% change), 2009-14\tPCH_GROC_09_14  \n",
    "Grocery stores/1,000 pop, 2009\tGROCPTH09  \n",
    "WIC-authorized stores/1,000 pop, 2008\tWICSPTH08"
   ]
  },
  {
   "cell_type": "code",
   "execution_count": 8,
   "metadata": {},
   "outputs": [
    {
     "name": "stdout",
     "output_type": "stream",
     "text": [
      "            decline  GROCPTH09  WICSPTH08\n",
      "decline    1.000000   0.100077  -0.034405\n",
      "GROCPTH09  0.100077   1.000000   0.610591\n",
      "WICSPTH08 -0.034405   0.610591   1.000000\n"
     ]
    },
    {
     "data": {
      "image/png": "[encoded data removed]",
      "text/plain": [
       "<matplotlib.figure.Figure at 0x2571f6f5470>"
      ]
     },
     "metadata": {},
     "output_type": "display_data"
    }
   ],
   "source": [
    "# Are they correlated with the target variable?\n",
    "corr=counties[['decline', 'GROCPTH09',  'WICSPTH08']].corr()\n",
    "print(corr)\n",
    "new=abs(corr)\n",
    "sns.heatmap(new, cmap='Blues');"
   ]
  },
  {
   "cell_type": "markdown",
   "metadata": {},
   "source": [
    "## Restaurants\n",
    "Fast-food restaurants/1,000 pop, 2009\tFFRPTH09  \n",
    "Full-service restaurants/1,000 pop, 2009\tFSRPTH09  \n",
    "Expenditures per capita, fast food, 2007\tPC_FFRSALES07  \n",
    "Expenditures per capita, restaurants, 2007\tPC_FSRSALES07  "
   ]
  },
  {
   "cell_type": "code",
   "execution_count": 9,
   "metadata": {},
   "outputs": [
    {
     "name": "stdout",
     "output_type": "stream",
     "text": [
      "                decline  FFRPTH09  FSRPTH09  PC_FFRSALES07  PC_FSRSALES07\n",
      "decline        1.000000  0.041965 -0.049210       0.018126      -0.007308\n",
      "FFRPTH09       0.041965  1.000000  0.358127       0.101382       0.119044\n",
      "FSRPTH09      -0.049210  0.358127  1.000000      -0.087615       0.148766\n",
      "PC_FFRSALES07  0.018126  0.101382 -0.087615       1.000000       0.495789\n",
      "PC_FSRSALES07 -0.007308  0.119044  0.148766       0.495789       1.000000\n"
     ]
    },
    {
     "data": {
      "image/png": "[encoded data removed]",
      "text/plain": [
       "<matplotlib.figure.Figure at 0x2571f6f5898>"
      ]
     },
     "metadata": {},
     "output_type": "display_data"
    }
   ],
   "source": [
    "# Are they correlated with the target variable?\n",
    "corr=counties[['decline', 'FFRPTH09', 'FSRPTH09', 'PC_FFRSALES07', 'PC_FSRSALES07']].corr()\n",
    "print(corr)\n",
    "new=abs(corr)\n",
    "sns.heatmap(new, cmap='Greens');"
   ]
  },
  {
   "cell_type": "markdown",
   "metadata": {},
   "source": [
    "## Socioeconomic Indicators\n",
    "% White, 2010\tPCT_NHWHITE10  \n",
    "% Population 65 years or older, 2010\tPCT_65OLDER10  \n",
    "% Population under age 18, 2010\tPCT_18YOUNGER10  \n",
    "Persistent-poverty counties, 2010\tPERPOV10  \n",
    "Metro/nonmetro counties, 2010\tMETRO13  \n",
    "Population-loss counties, 2010\tPOPLOSS10  "
   ]
  },
  {
   "cell_type": "code",
   "execution_count": 10,
   "metadata": {},
   "outputs": [
    {
     "name": "stdout",
     "output_type": "stream",
     "text": [
      "                  decline  PCT_NHWHITE10  PCT_65OLDER10  PCT_18YOUNGER10  \\\n",
      "decline          1.000000      -0.009221      -0.091902         0.070855   \n",
      "PCT_NHWHITE10   -0.009221       1.000000       0.410622        -0.332495   \n",
      "PCT_65OLDER10   -0.091902       0.410622       1.000000        -0.526336   \n",
      "PCT_18YOUNGER10  0.070855      -0.332495      -0.526336         1.000000   \n",
      "PERPOV10         0.008625      -0.415711      -0.105790         0.113597   \n",
      "METRO13          0.032632      -0.107819      -0.395175         0.127975   \n",
      "POPLOSS10       -0.071109       0.115827       0.358766        -0.096384   \n",
      "\n",
      "                 PERPOV10   METRO13  POPLOSS10  \n",
      "decline          0.008625  0.032632  -0.071109  \n",
      "PCT_NHWHITE10   -0.415711 -0.107819   0.115827  \n",
      "PCT_65OLDER10   -0.105790 -0.395175   0.358766  \n",
      "PCT_18YOUNGER10  0.113597  0.127975  -0.096384  \n",
      "PERPOV10         1.000000 -0.164303   0.043223  \n",
      "METRO13         -0.164303  1.000000  -0.236386  \n",
      "POPLOSS10        0.043223 -0.236386   1.000000  \n"
     ]
    },
    {
     "data": {
      "image/png": "[encoded data removed]",
      "text/plain": [
       "<matplotlib.figure.Figure at 0x2571fb7da20>"
      ]
     },
     "metadata": {},
     "output_type": "display_data"
    }
   ],
   "source": [
    "# Are they correlated with the target variable?\n",
    "corr=counties[['decline', 'PCT_NHWHITE10', 'PCT_65OLDER10', 'PCT_18YOUNGER10', 'PERPOV10', 'METRO13', 'POPLOSS10']].corr()\n",
    "print(corr)\n",
    "new=abs(corr)\n",
    "sns.heatmap(new, cmap='Reds');"
   ]
  },
  {
   "cell_type": "markdown",
   "metadata": {},
   "source": [
    "# Health and Access to grocery store \n",
    "Population, low access to store (%), 2010\tPCT_LACCESS_POP10  \n",
    "Adult diabetes rate, 2008\tPCT_DIABETES_ADULTS08  \n",
    "Adult obesity rate, 2008\tPCT_OBESE_ADULTS08"
   ]
  },
  {
   "cell_type": "code",
   "execution_count": 11,
   "metadata": {},
   "outputs": [
    {
     "name": "stdout",
     "output_type": "stream",
     "text": [
      "                        decline  PCT_LACCESS_POP10  PCT_DIABETES_ADULTS08  \\\n",
      "decline                1.000000          -0.059083               0.022387   \n",
      "PCT_LACCESS_POP10     -0.059083           1.000000              -0.150669   \n",
      "PCT_DIABETES_ADULTS08  0.022387          -0.150669               1.000000   \n",
      "PCT_OBESE_ADULTS08     0.049625          -0.118116               0.723746   \n",
      "\n",
      "                       PCT_OBESE_ADULTS08  \n",
      "decline                          0.049625  \n",
      "PCT_LACCESS_POP10               -0.118116  \n",
      "PCT_DIABETES_ADULTS08            0.723746  \n",
      "PCT_OBESE_ADULTS08               1.000000  \n"
     ]
    },
    {
     "data": {
      "image/png": "[encoded data removed]",
      "text/plain": [
       "<matplotlib.figure.Figure at 0x2571fc49278>"
      ]
     },
     "metadata": {},
     "output_type": "display_data"
    }
   ],
   "source": [
    "# Are they correlated with the target variable?\n",
    "corr=counties[['decline', 'PCT_LACCESS_POP10', 'PCT_DIABETES_ADULTS08', 'PCT_OBESE_ADULTS08']].corr()\n",
    "print(corr)\n",
    "new=abs(corr)\n",
    "sns.heatmap(new, cmap='BuPu');"
   ]
  },
  {
   "cell_type": "markdown",
   "metadata": {},
   "source": [
    "## Assistance\n",
    "SNAP participants (% eligible pop), 2008\tSNAP_PART_RATE08  \n",
    "National School Lunch Program participants (% pop), 2009\tPCT_NSLP09   \n",
    "WIC participants (% pop), 2009\tPCT_WIC09  \n",
    "Child & Adult Care (% pop), 2009\tPCT_CACFP09"
   ]
  },
  {
   "cell_type": "code",
   "execution_count": 12,
   "metadata": {},
   "outputs": [
    {
     "name": "stdout",
     "output_type": "stream",
     "text": [
      "                   decline  SNAP_PART_RATE08  PCT_NSLP09  PCT_WIC09  \\\n",
      "decline           1.000000          0.039559    0.013584   0.021893   \n",
      "SNAP_PART_RATE08  0.039559          1.000000   -0.099188  -0.300971   \n",
      "PCT_NSLP09        0.013584         -0.099188    1.000000   0.524833   \n",
      "PCT_WIC09         0.021893         -0.300971    0.524833   1.000000   \n",
      "PCT_CACFP09      -0.001846         -0.122817    0.505863   0.172609   \n",
      "\n",
      "                  PCT_CACFP09  \n",
      "decline             -0.001846  \n",
      "SNAP_PART_RATE08    -0.122817  \n",
      "PCT_NSLP09           0.505863  \n",
      "PCT_WIC09            0.172609  \n",
      "PCT_CACFP09          1.000000  \n"
     ]
    },
    {
     "data": {
      "image/png": "[encoded data removed]",
      "text/plain": [
       "<matplotlib.figure.Figure at 0x2571fce2358>"
      ]
     },
     "metadata": {},
     "output_type": "display_data"
    }
   ],
   "source": [
    "# Are they correlated with the target variable?\n",
    "corr=counties[['decline', 'SNAP_PART_RATE08', 'PCT_NSLP09', 'PCT_WIC09', 'PCT_CACFP09']].corr()\n",
    "print(corr)\n",
    "new=abs(corr)\n",
    "sns.heatmap(new, cmap='OrRd');"
   ]
  },
  {
   "cell_type": "code",
   "execution_count": 13,
   "metadata": {},
   "outputs": [
    {
     "data": {
      "text/plain": [
       "Ttest_indResult(statistic=-0.10328500875791562, pvalue=0.9177433858282894)"
      ]
     },
     "execution_count": 13,
     "metadata": {},
     "output_type": "execute_result"
    },
    {
     "data": {
      "image/png": "[encoded data removed]",
      "text/plain": [
       "<matplotlib.figure.Figure at 0x2571c0173c8>"
      ]
     },
     "metadata": {},
     "output_type": "display_data"
    }
   ],
   "source": [
    "# There is no significant difference in the proposed target variable, between groups.\n",
    "sns.barplot(y='PCT_CACFP09', x='decline', data=counties);\n",
    "stats.ttest_ind(counties.loc[counties['decline']==1, 'PCT_CACFP09'], counties.loc[counties['decline']==0, 'PCT_CACFP09'])"
   ]
  },
  {
   "cell_type": "code",
   "execution_count": null,
   "metadata": {},
   "outputs": [],
   "source": []
  }
 ],
 "metadata": {
  "kernelspec": {
   "display_name": "Python 3",
   "language": "python",
   "name": "python3"
  },
  "language_info": {
   "codemirror_mode": {
    "name": "ipython",
    "version": 3
   },
   "file_extension": ".py",
   "mimetype": "text/x-python",
   "name": "python",
   "nbconvert_exporter": "python",
   "pygments_lexer": "ipython3",
   "version": "3.6.4"
  }
 },
 "nbformat": 4,
 "nbformat_minor": 2
}
