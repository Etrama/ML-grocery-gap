{
 "cells": [
  {
   "cell_type": "code",
   "execution_count": 1,
   "metadata": {},
   "outputs": [],
   "source": [
    "# Import packages\n",
    "import numpy as np\n",
    "import pandas as pd\n",
    "import matplotlib.pyplot as plt\n",
    "%matplotlib inline\n",
    "import seaborn as sns\n",
    "import scipy.stats as stats\n",
    "sns.set_style('darkgrid')\n",
    "sns.set_context('talk')\n",
    "sns.set_palette('OrRd')"
   ]
  },
  {
   "cell_type": "code",
   "execution_count": 2,
   "metadata": {},
   "outputs": [
    {
     "data": {
      "text/html": [
       "<div>\n",
       "<style scoped>\n",
       "    .dataframe tbody tr th:only-of-type {\n",
       "        vertical-align: middle;\n",
       "    }\n",
       "\n",
       "    .dataframe tbody tr th {\n",
       "        vertical-align: top;\n",
       "    }\n",
       "\n",
       "    .dataframe thead th {\n",
       "        text-align: right;\n",
       "    }\n",
       "</style>\n",
       "<table border=\"1\" class=\"dataframe\">\n",
       "  <thead>\n",
       "    <tr style=\"text-align: right;\">\n",
       "      <th></th>\n",
       "      <th>FIPS</th>\n",
       "      <th>State</th>\n",
       "      <th>County</th>\n",
       "      <th>decline</th>\n",
       "      <th>PCH_GROC_09_14</th>\n",
       "      <th>GROCPTH09</th>\n",
       "      <th>WICSPTH08</th>\n",
       "      <th>FFRPTH09</th>\n",
       "      <th>FSRPTH09</th>\n",
       "      <th>PC_FFRSALES07</th>\n",
       "      <th>...</th>\n",
       "      <th>PERPOV10</th>\n",
       "      <th>METRO13</th>\n",
       "      <th>POPLOSS10</th>\n",
       "      <th>PCT_LACCESS_POP10</th>\n",
       "      <th>SNAP_PART_RATE08</th>\n",
       "      <th>PCT_NSLP09</th>\n",
       "      <th>PCT_WIC09</th>\n",
       "      <th>PCT_CACFP09</th>\n",
       "      <th>PCT_DIABETES_ADULTS08</th>\n",
       "      <th>PCT_OBESE_ADULTS08</th>\n",
       "    </tr>\n",
       "  </thead>\n",
       "  <tbody>\n",
       "    <tr>\n",
       "      <th>0</th>\n",
       "      <td>1001</td>\n",
       "      <td>AL</td>\n",
       "      <td>Autauga</td>\n",
       "      <td>1</td>\n",
       "      <td>-33.333333</td>\n",
       "      <td>0.110834</td>\n",
       "      <td>0.119156</td>\n",
       "      <td>0.554170</td>\n",
       "      <td>0.628059</td>\n",
       "      <td>649.511367</td>\n",
       "      <td>...</td>\n",
       "      <td>0</td>\n",
       "      <td>1</td>\n",
       "      <td>0.0</td>\n",
       "      <td>33.769657</td>\n",
       "      <td>67</td>\n",
       "      <td>12.315055</td>\n",
       "      <td>2.990417</td>\n",
       "      <td>0.91609</td>\n",
       "      <td>11.4</td>\n",
       "      <td>31.5</td>\n",
       "    </tr>\n",
       "    <tr>\n",
       "      <th>1</th>\n",
       "      <td>1003</td>\n",
       "      <td>AL</td>\n",
       "      <td>Baldwin</td>\n",
       "      <td>0</td>\n",
       "      <td>20.833333</td>\n",
       "      <td>0.133775</td>\n",
       "      <td>0.141875</td>\n",
       "      <td>0.624282</td>\n",
       "      <td>1.125938</td>\n",
       "      <td>649.511367</td>\n",
       "      <td>...</td>\n",
       "      <td>0</td>\n",
       "      <td>1</td>\n",
       "      <td>0.0</td>\n",
       "      <td>19.318473</td>\n",
       "      <td>67</td>\n",
       "      <td>12.315055</td>\n",
       "      <td>2.990417</td>\n",
       "      <td>0.91609</td>\n",
       "      <td>9.8</td>\n",
       "      <td>26.2</td>\n",
       "    </tr>\n",
       "    <tr>\n",
       "      <th>2</th>\n",
       "      <td>1005</td>\n",
       "      <td>AL</td>\n",
       "      <td>Barbour</td>\n",
       "      <td>0</td>\n",
       "      <td>0.000000</td>\n",
       "      <td>0.180786</td>\n",
       "      <td>0.201099</td>\n",
       "      <td>0.759301</td>\n",
       "      <td>0.433887</td>\n",
       "      <td>649.511367</td>\n",
       "      <td>...</td>\n",
       "      <td>1</td>\n",
       "      <td>0</td>\n",
       "      <td>0.0</td>\n",
       "      <td>20.840972</td>\n",
       "      <td>67</td>\n",
       "      <td>12.315055</td>\n",
       "      <td>2.990417</td>\n",
       "      <td>0.91609</td>\n",
       "      <td>13.6</td>\n",
       "      <td>37.6</td>\n",
       "    </tr>\n",
       "    <tr>\n",
       "      <th>3</th>\n",
       "      <td>1007</td>\n",
       "      <td>AL</td>\n",
       "      <td>Bibb</td>\n",
       "      <td>1</td>\n",
       "      <td>-16.666667</td>\n",
       "      <td>0.261540</td>\n",
       "      <td>0.277919</td>\n",
       "      <td>0.305131</td>\n",
       "      <td>0.261540</td>\n",
       "      <td>649.511367</td>\n",
       "      <td>...</td>\n",
       "      <td>0</td>\n",
       "      <td>1</td>\n",
       "      <td>0.0</td>\n",
       "      <td>4.559753</td>\n",
       "      <td>67</td>\n",
       "      <td>12.315055</td>\n",
       "      <td>2.990417</td>\n",
       "      <td>0.91609</td>\n",
       "      <td>11.1</td>\n",
       "      <td>32.3</td>\n",
       "    </tr>\n",
       "    <tr>\n",
       "      <th>4</th>\n",
       "      <td>1009</td>\n",
       "      <td>AL</td>\n",
       "      <td>Blount</td>\n",
       "      <td>0</td>\n",
       "      <td>0.000000</td>\n",
       "      <td>0.104637</td>\n",
       "      <td>0.173028</td>\n",
       "      <td>0.418549</td>\n",
       "      <td>0.331351</td>\n",
       "      <td>649.511367</td>\n",
       "      <td>...</td>\n",
       "      <td>0</td>\n",
       "      <td>1</td>\n",
       "      <td>0.0</td>\n",
       "      <td>2.700840</td>\n",
       "      <td>67</td>\n",
       "      <td>12.315055</td>\n",
       "      <td>2.990417</td>\n",
       "      <td>0.91609</td>\n",
       "      <td>11.4</td>\n",
       "      <td>31.9</td>\n",
       "    </tr>\n",
       "  </tbody>\n",
       "</table>\n",
       "<p>5 rows × 24 columns</p>\n",
       "</div>"
      ],
      "text/plain": [
       "   FIPS State   County  decline  PCH_GROC_09_14  GROCPTH09  WICSPTH08  \\\n",
       "0  1001    AL  Autauga        1      -33.333333   0.110834   0.119156   \n",
       "1  1003    AL  Baldwin        0       20.833333   0.133775   0.141875   \n",
       "2  1005    AL  Barbour        0        0.000000   0.180786   0.201099   \n",
       "3  1007    AL     Bibb        1      -16.666667   0.261540   0.277919   \n",
       "4  1009    AL   Blount        0        0.000000   0.104637   0.173028   \n",
       "\n",
       "   FFRPTH09  FSRPTH09  PC_FFRSALES07         ...          PERPOV10  METRO13  \\\n",
       "0  0.554170  0.628059     649.511367         ...                 0        1   \n",
       "1  0.624282  1.125938     649.511367         ...                 0        1   \n",
       "2  0.759301  0.433887     649.511367         ...                 1        0   \n",
       "3  0.305131  0.261540     649.511367         ...                 0        1   \n",
       "4  0.418549  0.331351     649.511367         ...                 0        1   \n",
       "\n",
       "   POPLOSS10  PCT_LACCESS_POP10  SNAP_PART_RATE08  PCT_NSLP09  PCT_WIC09  \\\n",
       "0        0.0          33.769657                67   12.315055   2.990417   \n",
       "1        0.0          19.318473                67   12.315055   2.990417   \n",
       "2        0.0          20.840972                67   12.315055   2.990417   \n",
       "3        0.0           4.559753                67   12.315055   2.990417   \n",
       "4        0.0           2.700840                67   12.315055   2.990417   \n",
       "\n",
       "   PCT_CACFP09  PCT_DIABETES_ADULTS08  PCT_OBESE_ADULTS08  \n",
       "0      0.91609                   11.4                31.5  \n",
       "1      0.91609                    9.8                26.2  \n",
       "2      0.91609                   13.6                37.6  \n",
       "3      0.91609                   11.1                32.3  \n",
       "4      0.91609                   11.4                31.9  \n",
       "\n",
       "[5 rows x 24 columns]"
      ]
     },
     "execution_count": 2,
     "metadata": {},
     "output_type": "execute_result"
    }
   ],
   "source": [
    "counties=pd.read_csv('counties.csv')\n",
    "counties.head()"
   ]
  },
  {
   "cell_type": "markdown",
   "metadata": {},
   "source": [
    "## Confirm data is ready for analysis"
   ]
  },
  {
   "cell_type": "code",
   "execution_count": 3,
   "metadata": {},
   "outputs": [
    {
     "data": {
      "text/plain": [
       "FIPS                     0\n",
       "State                    0\n",
       "County                   0\n",
       "decline                  0\n",
       "PCH_GROC_09_14           0\n",
       "GROCPTH09                0\n",
       "WICSPTH08                0\n",
       "FFRPTH09                 0\n",
       "FSRPTH09                 0\n",
       "PC_FFRSALES07            0\n",
       "PC_FSRSALES07            0\n",
       "PCT_NHWHITE10            0\n",
       "PCT_65OLDER10            0\n",
       "PCT_18YOUNGER10          0\n",
       "PERPOV10                 0\n",
       "METRO13                  0\n",
       "POPLOSS10                0\n",
       "PCT_LACCESS_POP10        0\n",
       "SNAP_PART_RATE08         0\n",
       "PCT_NSLP09               0\n",
       "PCT_WIC09                0\n",
       "PCT_CACFP09              0\n",
       "PCT_DIABETES_ADULTS08    0\n",
       "PCT_OBESE_ADULTS08       0\n",
       "dtype: int64"
      ]
     },
     "execution_count": 3,
     "metadata": {},
     "output_type": "execute_result"
    }
   ],
   "source": [
    "# Confirm no missing values\n",
    "counties.isnull().sum()"
   ]
  },
  {
   "cell_type": "code",
   "execution_count": 4,
   "metadata": {},
   "outputs": [
    {
     "data": {
      "text/plain": [
       "FIPS                       int64\n",
       "State                     object\n",
       "County                    object\n",
       "decline                    int64\n",
       "PCH_GROC_09_14           float64\n",
       "GROCPTH09                float64\n",
       "WICSPTH08                float64\n",
       "FFRPTH09                 float64\n",
       "FSRPTH09                 float64\n",
       "PC_FFRSALES07            float64\n",
       "PC_FSRSALES07            float64\n",
       "PCT_NHWHITE10            float64\n",
       "PCT_65OLDER10            float64\n",
       "PCT_18YOUNGER10          float64\n",
       "PERPOV10                   int64\n",
       "METRO13                    int64\n",
       "POPLOSS10                float64\n",
       "PCT_LACCESS_POP10        float64\n",
       "SNAP_PART_RATE08           int64\n",
       "PCT_NSLP09               float64\n",
       "PCT_WIC09                float64\n",
       "PCT_CACFP09              float64\n",
       "PCT_DIABETES_ADULTS08    float64\n",
       "PCT_OBESE_ADULTS08       float64\n",
       "dtype: object"
      ]
     },
     "execution_count": 4,
     "metadata": {},
     "output_type": "execute_result"
    }
   ],
   "source": [
    "# Confirm all columns are numeric\n",
    "counties.dtypes"
   ]
  },
  {
   "cell_type": "code",
   "execution_count": 5,
   "metadata": {},
   "outputs": [
    {
     "data": {
      "text/plain": [
       "FIPS                          1001\n",
       "State                           AK\n",
       "County                   Abbeville\n",
       "decline                          0\n",
       "PCH_GROC_09_14                -100\n",
       "GROCPTH09                        0\n",
       "WICSPTH08                        0\n",
       "FFRPTH09                         0\n",
       "FSRPTH09                         0\n",
       "PC_FFRSALES07              402.098\n",
       "PC_FSRSALES07              371.845\n",
       "PCT_NHWHITE10              2.86041\n",
       "PCT_65OLDER10               3.4706\n",
       "PCT_18YOUNGER10                  0\n",
       "PERPOV10                         0\n",
       "METRO13                          0\n",
       "POPLOSS10                        0\n",
       "PCT_LACCESS_POP10                0\n",
       "SNAP_PART_RATE08                48\n",
       "PCT_NSLP09                  6.9543\n",
       "PCT_WIC09                  1.38626\n",
       "PCT_CACFP09               0.387918\n",
       "PCT_DIABETES_ADULTS08            3\n",
       "PCT_OBESE_ADULTS08            11.7\n",
       "dtype: object"
      ]
     },
     "execution_count": 5,
     "metadata": {},
     "output_type": "execute_result"
    }
   ],
   "source": [
    "# Confirm no extreme minimums\n",
    "counties.min()"
   ]
  },
  {
   "cell_type": "code",
   "execution_count": 6,
   "metadata": {},
   "outputs": [
    {
     "data": {
      "text/plain": [
       "FIPS                       56045\n",
       "State                         WY\n",
       "County                   Ziebach\n",
       "decline                        1\n",
       "PCH_GROC_09_14               300\n",
       "GROCPTH09                3.07377\n",
       "WICSPTH08                4.61894\n",
       "FFRPTH09                 3.13905\n",
       "FSRPTH09                 8.39329\n",
       "PC_FFRSALES07            1043.86\n",
       "PC_FSRSALES07            1930.16\n",
       "PCT_NHWHITE10            99.1632\n",
       "PCT_65OLDER10            43.3847\n",
       "PCT_18YOUNGER10          40.1269\n",
       "PERPOV10                       1\n",
       "METRO13                        1\n",
       "POPLOSS10                      1\n",
       "PCT_LACCESS_POP10            100\n",
       "SNAP_PART_RATE08             100\n",
       "PCT_NSLP09               13.7438\n",
       "PCT_WIC09                5.07887\n",
       "PCT_CACFP09              2.55255\n",
       "PCT_DIABETES_ADULTS08       18.2\n",
       "PCT_OBESE_ADULTS08          43.7\n",
       "dtype: object"
      ]
     },
     "execution_count": 6,
     "metadata": {},
     "output_type": "execute_result"
    }
   ],
   "source": [
    "# Confirm no extreme maximums\n",
    "counties.max()"
   ]
  },
  {
   "cell_type": "code",
   "execution_count": 7,
   "metadata": {},
   "outputs": [
    {
     "data": {
      "text/plain": [
       "0    1844\n",
       "1    1277\n",
       "Name: decline, dtype: int64"
      ]
     },
     "execution_count": 7,
     "metadata": {},
     "output_type": "execute_result"
    }
   ],
   "source": [
    "# Is the target imbalanced?\n",
    "counties['decline'].value_counts()"
   ]
  },
  {
   "cell_type": "markdown",
   "metadata": {},
   "source": [
    "## Store Features\n",
    "Grocery stores (% change), 2009-14\tPCH_GROC_09_14  \n",
    "Grocery stores/1,000 pop, 2009\tGROCPTH09  \n",
    "WIC-authorized stores/1,000 pop, 2008\tWICSPTH08"
   ]
  },
  {
   "cell_type": "code",
   "execution_count": 10,
   "metadata": {},
   "outputs": [
    {
     "name": "stdout",
     "output_type": "stream",
     "text": [
      "                 decline  PCH_GROC_09_14  GROCPTH09  WICSPTH08\n",
      "decline         1.000000       -0.637564   0.079907  -0.041520\n",
      "PCH_GROC_09_14 -0.637564        1.000000  -0.159226  -0.025840\n",
      "GROCPTH09       0.079907       -0.159226   1.000000   0.623558\n",
      "WICSPTH08      -0.041520       -0.025840   0.623558   1.000000\n"
     ]
    },
    {
     "data": {
      "image/png": "[encoded data removed]",
      "text/plain": [
       "<matplotlib.figure.Figure at 0x1aef3dbb080>"
      ]
     },
     "metadata": {},
     "output_type": "display_data"
    }
   ],
   "source": [
    "# Are they correlated with the target variable?\n",
    "corr=counties[['decline', 'PCH_GROC_09_14', 'GROCPTH09',  'WICSPTH08']].corr()\n",
    "print(corr)\n",
    "new=abs(corr)\n",
    "sns.heatmap(new, cmap='Blues');"
   ]
  },
  {
   "cell_type": "markdown",
   "metadata": {},
   "source": [
    "## Restaurants\n",
    "Fast-food restaurants/1,000 pop, 2009\tFFRPTH09  \n",
    "Full-service restaurants/1,000 pop, 2009\tFSRPTH09  \n",
    "Expenditures per capita, fast food, 2007\tPC_FFRSALES07  \n",
    "Expenditures per capita, restaurants, 2007\tPC_FSRSALES07  "
   ]
  },
  {
   "cell_type": "code",
   "execution_count": 11,
   "metadata": {},
   "outputs": [
    {
     "name": "stdout",
     "output_type": "stream",
     "text": [
      "                decline  FFRPTH09  FSRPTH09  PC_FFRSALES07  PC_FSRSALES07\n",
      "decline        1.000000  0.024008 -0.073796      -0.013749      -0.042426\n",
      "FFRPTH09       0.024008  1.000000  0.260643       0.099750       0.108979\n",
      "FSRPTH09      -0.073796  0.260643  1.000000      -0.102884       0.143369\n",
      "PC_FFRSALES07 -0.013749  0.099750 -0.102884       1.000000       0.498698\n",
      "PC_FSRSALES07 -0.042426  0.108979  0.143369       0.498698       1.000000\n"
     ]
    },
    {
     "data": {
      "image/png": "[encoded data removed]",
      "text/plain": [
       "<matplotlib.figure.Figure at 0x1aef3ce9cc0>"
      ]
     },
     "metadata": {},
     "output_type": "display_data"
    }
   ],
   "source": [
    "# Are they correlated with the target variable?\n",
    "corr=counties[['decline', 'FFRPTH09', 'FSRPTH09', 'PC_FFRSALES07', 'PC_FSRSALES07']].corr()\n",
    "print(corr)\n",
    "new=abs(corr)\n",
    "sns.heatmap(new, cmap='Greens');"
   ]
  },
  {
   "cell_type": "markdown",
   "metadata": {},
   "source": [
    "## Socioeconomic Indicators\n",
    "% White, 2010\tPCT_NHWHITE10  \n",
    "% Population 65 years or older, 2010\tPCT_65OLDER10  \n",
    "% Population under age 18, 2010\tPCT_18YOUNGER10  \n",
    "Persistent-poverty counties, 2010\tPERPOV10  \n",
    "Metro/nonmetro counties, 2010\tMETRO13  \n",
    "Population-loss counties, 2010\tPOPLOSS10  "
   ]
  },
  {
   "cell_type": "code",
   "execution_count": 12,
   "metadata": {},
   "outputs": [
    {
     "name": "stdout",
     "output_type": "stream",
     "text": [
      "                  decline  PCT_NHWHITE10  PCT_65OLDER10  PCT_18YOUNGER10  \\\n",
      "decline          1.000000       0.021892      -0.025749         0.005980   \n",
      "PCT_NHWHITE10    0.021892       1.000000       0.406780        -0.327307   \n",
      "PCT_65OLDER10   -0.025749       0.406780       1.000000        -0.529951   \n",
      "PCT_18YOUNGER10  0.005980      -0.327307      -0.529951         1.000000   \n",
      "PERPOV10         0.043841      -0.414082      -0.106981         0.116446   \n",
      "METRO13         -0.004156      -0.110942      -0.392502         0.121641   \n",
      "POPLOSS10       -0.046418       0.112869       0.354049        -0.092726   \n",
      "\n",
      "                 PERPOV10   METRO13  POPLOSS10  \n",
      "decline          0.043841 -0.004156  -0.046418  \n",
      "PCT_NHWHITE10   -0.414082 -0.110942   0.112869  \n",
      "PCT_65OLDER10   -0.106981 -0.392502   0.354049  \n",
      "PCT_18YOUNGER10  0.116446  0.121641  -0.092726  \n",
      "PERPOV10         1.000000 -0.164740   0.045300  \n",
      "METRO13         -0.164740  1.000000  -0.236072  \n",
      "POPLOSS10        0.045300 -0.236072   1.000000  \n"
     ]
    },
    {
     "data": {
      "image/png": "[encoded data removed]",
      "text/plain": [
       "<matplotlib.figure.Figure at 0x1aef3f48fd0>"
      ]
     },
     "metadata": {},
     "output_type": "display_data"
    }
   ],
   "source": [
    "# Are they correlated with the target variable?\n",
    "corr=counties[['decline', 'PCT_NHWHITE10', 'PCT_65OLDER10', 'PCT_18YOUNGER10', 'PERPOV10', 'METRO13', 'POPLOSS10']].corr()\n",
    "print(corr)\n",
    "new=abs(corr)\n",
    "sns.heatmap(new, cmap='Reds');"
   ]
  },
  {
   "cell_type": "markdown",
   "metadata": {},
   "source": [
    "# Health and Access to grocery store \n",
    "Population, low access to store (%), 2010\tPCT_LACCESS_POP10  \n",
    "Adult diabetes rate, 2008\tPCT_DIABETES_ADULTS08  \n",
    "Adult obesity rate, 2008\tPCT_OBESE_ADULTS08"
   ]
  },
  {
   "cell_type": "code",
   "execution_count": 14,
   "metadata": {},
   "outputs": [
    {
     "name": "stdout",
     "output_type": "stream",
     "text": [
      "                        decline  PCT_LACCESS_POP10  PCT_DIABETES_ADULTS08  \\\n",
      "decline                1.000000          -0.103506               0.114146   \n",
      "PCT_LACCESS_POP10     -0.103506           1.000000              -0.149891   \n",
      "PCT_DIABETES_ADULTS08  0.114146          -0.149891               1.000000   \n",
      "PCT_OBESE_ADULTS08     0.124344          -0.114495               0.722438   \n",
      "\n",
      "                       PCT_OBESE_ADULTS08  \n",
      "decline                          0.124344  \n",
      "PCT_LACCESS_POP10               -0.114495  \n",
      "PCT_DIABETES_ADULTS08            0.722438  \n",
      "PCT_OBESE_ADULTS08               1.000000  \n"
     ]
    },
    {
     "data": {
      "image/png": "[encoded data removed]",
      "text/plain": [
       "<matplotlib.figure.Figure at 0x1aef42b62e8>"
      ]
     },
     "metadata": {},
     "output_type": "display_data"
    }
   ],
   "source": [
    "# Are they correlated with the target variable?\n",
    "corr=counties[['decline', 'PCT_LACCESS_POP10', 'PCT_DIABETES_ADULTS08', 'PCT_OBESE_ADULTS08']].corr()\n",
    "print(corr)\n",
    "new=abs(corr)\n",
    "sns.heatmap(new, cmap='BuPu');"
   ]
  },
  {
   "cell_type": "markdown",
   "metadata": {},
   "source": [
    "## Assistance\n",
    "SNAP participants (% eligible pop), 2008\tSNAP_PART_RATE08  \n",
    "National School Lunch Program participants (% pop), 2009\tPCT_NSLP09   \n",
    "WIC participants (% pop), 2009\tPCT_WIC09  \n",
    "Child & Adult Care (% pop), 2009\tPCT_CACFP09"
   ]
  },
  {
   "cell_type": "code",
   "execution_count": 15,
   "metadata": {},
   "outputs": [
    {
     "name": "stdout",
     "output_type": "stream",
     "text": [
      "                   decline  SNAP_PART_RATE08  PCT_NSLP09  PCT_WIC09  \\\n",
      "decline           1.000000          0.085001   -0.001619   0.017769   \n",
      "SNAP_PART_RATE08  0.085001          1.000000   -0.097873  -0.301123   \n",
      "PCT_NSLP09       -0.001619         -0.097873    1.000000   0.524309   \n",
      "PCT_WIC09         0.017769         -0.301123    0.524309   1.000000   \n",
      "PCT_CACFP09      -0.057297         -0.123070    0.505256   0.173682   \n",
      "\n",
      "                  PCT_CACFP09  \n",
      "decline             -0.057297  \n",
      "SNAP_PART_RATE08    -0.123070  \n",
      "PCT_NSLP09           0.505256  \n",
      "PCT_WIC09            0.173682  \n",
      "PCT_CACFP09          1.000000  \n"
     ]
    },
    {
     "data": {
      "image/png": "[encoded data removed]",
      "text/plain": [
       "<matplotlib.figure.Figure at 0x1aef4342f98>"
      ]
     },
     "metadata": {},
     "output_type": "display_data"
    }
   ],
   "source": [
    "# Are they correlated with the target variable?\n",
    "corr=counties[['decline', 'SNAP_PART_RATE08', 'PCT_NSLP09', 'PCT_WIC09', 'PCT_CACFP09']].corr()\n",
    "print(corr)\n",
    "new=abs(corr)\n",
    "sns.heatmap(new, cmap='OrRd');"
   ]
  },
  {
   "cell_type": "code",
   "execution_count": null,
   "metadata": {},
   "outputs": [],
   "source": [
    "# Supercenters & club stores/1,000 pop (% change), 2007-14\n",
    "sns.barplot(y='PCH_SUPERCPTH_09_14', x='decline', data=stores);\n",
    "stats.ttest_ind(stores['PCH_SUPERCPTH_09_14'], stores['decline'])"
   ]
  }
 ],
 "metadata": {
  "kernelspec": {
   "display_name": "Python 3",
   "language": "python",
   "name": "python3"
  },
  "language_info": {
   "codemirror_mode": {
    "name": "ipython",
    "version": 3
   },
   "file_extension": ".py",
   "mimetype": "text/x-python",
   "name": "python",
   "nbconvert_exporter": "python",
   "pygments_lexer": "ipython3",
   "version": "3.6.4"
  }
 },
 "nbformat": 4,
 "nbformat_minor": 2
}
