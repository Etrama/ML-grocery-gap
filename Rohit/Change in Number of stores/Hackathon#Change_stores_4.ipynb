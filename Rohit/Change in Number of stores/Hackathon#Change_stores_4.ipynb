{
 "cells": [
  {
   "cell_type": "code",
   "execution_count": null,
   "metadata": {},
   "outputs": [],
   "source": [
    "import math\n",
    "\n",
    "from IPython import display\n",
    "from matplotlib import cm\n",
    "from matplotlib import gridspec\n",
    "from matplotlib import pyplot as plt\n",
    "import numpy as np\n",
    "import pandas as pd\n",
    "from sklearn import metrics\n",
    "import tensorflow as tf\n",
    "from tensorflow.python.data import Dataset\n",
    "\n",
    "tf.logging.set_verbosity(tf.logging.ERROR)\n",
    "pd.options.display.max_rows = 10\n",
    "pd.options.display.float_format = '{:.1f}'.format"
   ]
  },
  {
   "cell_type": "code",
   "execution_count": null,
   "metadata": {},
   "outputs": [],
   "source": [
    "File = pd.read_csv(r'C:\\Users\\rohishah\\Desktop\\ML_Hackathon\\predict_stores.csv')\n",
    "File = File.fillna(0.0)\n",
    "File['pop_2009'] = File['pop_2009']/1000\n",
    "File['per_capita_09'] = File['per_capita_09']/1000"
   ]
  },
  {
   "cell_type": "code",
   "execution_count": null,
   "metadata": {},
   "outputs": [],
   "source": [
    "File.head()"
   ]
  },
  {
   "cell_type": "code",
   "execution_count": null,
   "metadata": {},
   "outputs": [],
   "source": [
    "all_features = File.columns.drop('PCH_GROC_09_14')"
   ]
  },
  {
   "cell_type": "code",
   "execution_count": null,
   "metadata": {},
   "outputs": [],
   "source": [
    "target = [\"PCH_GROC_09_14\"]"
   ]
  },
  {
   "cell_type": "code",
   "execution_count": null,
   "metadata": {},
   "outputs": [],
   "source": [
    "def preprocess_features(example_data_frame):\n",
    "    selected_featur = example_data_frame[selected_features]\n",
    "    processed_features = selected_featur.copy()\n",
    "     # Create a synthetic feature.\n",
    "    return processed_features"
   ]
  },
  {
   "cell_type": "code",
   "execution_count": null,
   "metadata": {},
   "outputs": [],
   "source": [
    "def preprocess_targets(example_data_frame):\n",
    "    output_targets = pd.DataFrame()\n",
    "    output_targets[target] = example_data_frame[target] \n",
    "    return output_targets"
   ]
  },
  {
   "cell_type": "code",
   "execution_count": null,
   "metadata": {},
   "outputs": [],
   "source": [
    "def construct_feature_columns(input_features):\n",
    "    return set([tf.feature_column.numeric_column(my_feature)\n",
    "              for my_feature in input_features])"
   ]
  },
  {
   "cell_type": "code",
   "execution_count": null,
   "metadata": {},
   "outputs": [],
   "source": [
    "def my_input_fn(features, targets, batch_size=1, shuffle=True, num_epochs=None):\n",
    "    # Convert pandas data into a dict of np arrays.\n",
    "    features = {key:np.array(value) for key,value in dict(features).items()}                                            \n",
    " \n",
    "    # Construct a dataset, and configure batching/repeating.\n",
    "    ds = Dataset.from_tensor_slices((features,targets)) # warning: 2GB limit\n",
    "    ds = ds.batch(batch_size).repeat(num_epochs)\n",
    "    \n",
    "    # Shuffle the data, if specified.\n",
    "    if shuffle:\n",
    "        ds = ds.shuffle(10000)\n",
    "    \n",
    "    # Return the next batch of data.\n",
    "    features, labels = ds.make_one_shot_iterator().get_next()\n",
    "    return features, labels"
   ]
  },
  {
   "cell_type": "code",
   "execution_count": null,
   "metadata": {},
   "outputs": [],
   "source": [
    "def train_linear_classifier_model(\n",
    "    learning_rate,\n",
    "    steps,\n",
    "    batch_size,\n",
    "    training_examples,\n",
    "    training_targets,\n",
    "    validation_examples,\n",
    "    validation_targets,\n",
    "    my_optimizer,\n",
    "    hidden_units):\n",
    "    \n",
    "    periods = 10\n",
    "    steps_per_period = steps / periods\n",
    "  \n",
    "  # Create a linear classifier object.\n",
    "    my_optimizer = my_optimizer\n",
    "    my_optimizer = tf.contrib.estimator.clip_gradients_by_norm(my_optimizer, 5.0)  \n",
    "    linear_classifier = tf.estimator.DNNClassifier(\n",
    "      feature_columns=construct_feature_columns(training_examples),\n",
    "      optimizer=my_optimizer,\n",
    "     hidden_units = hidden_units)\n",
    "  \n",
    "  # Create input functions.\n",
    "    training_input_fn = lambda: my_input_fn(training_examples, \n",
    "                                          training_targets[\"PCH_GROC_09_14\"], \n",
    "                                          batch_size=batch_size)\n",
    "    predict_training_input_fn = lambda: my_input_fn(training_examples, \n",
    "                                                  training_targets[\"PCH_GROC_09_14\"], \n",
    "                                                  num_epochs=1, \n",
    "                                                  shuffle=False)\n",
    "    predict_validation_input_fn = lambda: my_input_fn(validation_examples, \n",
    "                                                    validation_targets[\"PCH_GROC_09_14\"], \n",
    "                                                    num_epochs=1, \n",
    "                                                    shuffle=False)\n",
    "  \n",
    "  # Train the model, but do so inside a loop so that we can periodically assess\n",
    "  # loss metrics.\n",
    "    print (\"Training model...\")\n",
    "    training_log_losses = []\n",
    "    validation_log_losses = []\n",
    "    for period in range (0, periods):\n",
    "        \n",
    "        linear_classifier.train(input_fn=training_input_fn,\n",
    "                                steps=steps_per_period)\n",
    "       # Take a break and compute predictions.\n",
    "        \n",
    "        training_probabilities = linear_classifier.predict(input_fn=predict_training_input_fn)\n",
    "        training_probabilities = np.array([item['probabilities'] for item in training_probabilities])\n",
    "\n",
    "        validation_probabilities = linear_classifier.predict(input_fn=predict_validation_input_fn)\n",
    "        validation_probabilities = np.array([item['probabilities'] for item in validation_probabilities])\n",
    "\n",
    "        training_log_loss = metrics.log_loss(training_targets, training_probabilities)\n",
    "        validation_log_loss = metrics.log_loss(validation_targets, validation_probabilities)\n",
    "        # Occasionally print the current loss.\n",
    "        #print(period, training_log_loss)\n",
    "        # Add the loss metrics from this period to our list.\n",
    "        training_log_losses.append(training_log_loss)\n",
    "        validation_log_losses.append(validation_log_loss)\n",
    "   \n",
    "    print (\"Model training finished.\")\n",
    "  \n",
    "  # Output a graph of loss metrics over periods.\n",
    "    plt.ylabel(\"LogLoss\")\n",
    "    plt.xlabel(\"Periods\")\n",
    "    plt.title(\"LogLoss vs. Periods\")\n",
    "    plt.tight_layout()\n",
    "    plt.plot(training_log_losses, label=\"training\")\n",
    "    plt.plot(validation_log_losses, label=\"validation\")\n",
    "    plt.legend()\n",
    "\n",
    "    return linear_classifier"
   ]
  },
  {
   "cell_type": "code",
   "execution_count": null,
   "metadata": {},
   "outputs": [],
   "source": [
    "actual_df = File\n",
    "actual_df.head()"
   ]
  },
  {
   "cell_type": "code",
   "execution_count": null,
   "metadata": {},
   "outputs": [],
   "source": [
    "from sklearn.model_selection import train_test_split"
   ]
  },
  {
   "cell_type": "code",
   "execution_count": null,
   "metadata": {},
   "outputs": [],
   "source": [
    "selected_feature = []\n",
    "accuracy = []\n",
    "auc = []\n",
    "auc_acuu_feature=[]\n",
    "for outer_index in np.arange(1,36):\n",
    "    for innner_index in np.arange(outer_index+1,36):\n",
    "        selected_feature = all_features[outer_index:innner_index]\n",
    "        training_examples, testing_examples, training_targets, testing_targets = train_test_split(actual_df[selected_feature],\n",
    "                                                                       actual_df[target],test_size = 0.4,\n",
    "                                                                       random_state = 1)\n",
    "        linear_classifier = train_linear_classifier_model(learning_rate=0.01,\n",
    "                                                            steps=500,\n",
    "                                                            batch_size=10,\n",
    "                                                            training_examples=training_examples,\n",
    "                                                            training_targets=training_targets,\n",
    "                                                            validation_examples=testing_examples,\n",
    "                                                            validation_targets=testing_targets,\n",
    "                                                            my_optimizer = tf.train.GradientDescentOptimizer(learning_rate=0.01),\n",
    "                                                            hidden_units=[10,10])\n",
    "        predict_validation_input_fn = lambda: my_input_fn(testing_examples, \n",
    "                                                          testing_targets[\"PCH_GROC_09_14\"], \n",
    "                                                          num_epochs=1, \n",
    "                                                          shuffle=False)\n",
    "        evaluation_metrics = linear_classifier.evaluate(input_fn=predict_validation_input_fn)\n",
    "        #if evaluation_metrics['auc'] > 0.67 and evaluation_metrics['accuracy'] > 0.7:\n",
    "        accuracy.append(evaluation_metrics['auc'])\n",
    "        auc.append(evaluation_metrics['accuracy'])\n",
    "        auc_acuu_feature.append(selected_feature)\n",
    "        print(evaluation_metrics['auc'])\n",
    "        print(evaluation_metrics['accuracy'])\n",
    "        print(selected_feature)\n",
    "Print(\"End of loop with all combination\")    "
   ]
  },
  {
   "cell_type": "code",
   "execution_count": null,
   "metadata": {},
   "outputs": [],
   "source": []
  }
 ],
 "metadata": {
  "kernelspec": {
   "display_name": "Python 3",
   "language": "python",
   "name": "python3"
  },
  "language_info": {
   "codemirror_mode": {
    "name": "ipython",
    "version": 3
   },
   "file_extension": ".py",
   "mimetype": "text/x-python",
   "name": "python",
   "nbconvert_exporter": "python",
   "pygments_lexer": "ipython3",
   "version": "3.5.5"
  }
 },
 "nbformat": 4,
 "nbformat_minor": 2
}
