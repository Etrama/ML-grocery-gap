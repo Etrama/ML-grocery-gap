{
 "cells": [
  {
   "cell_type": "code",
   "execution_count": 1,
   "metadata": {},
   "outputs": [],
   "source": [
    "import math\n",
    "\n",
    "from IPython import display\n",
    "from matplotlib import cm\n",
    "from matplotlib import gridspec\n",
    "from matplotlib import pyplot as plt\n",
    "import numpy as np\n",
    "import pandas as pd\n",
    "from sklearn import metrics\n",
    "import tensorflow as tf\n",
    "from tensorflow.python.data import Dataset\n",
    "\n",
    "tf.logging.set_verbosity(tf.logging.ERROR)\n",
    "pd.options.display.max_rows = 10\n",
    "pd.options.display.float_format = '{:.1f}'.format"
   ]
  },
  {
   "cell_type": "code",
   "execution_count": 2,
   "metadata": {},
   "outputs": [],
   "source": [
    "File = pd.read_csv(r'C:\\Users\\rohishah\\Desktop\\ML_Hackathon\\predict_stores.csv')\n",
    "File.columns\n",
    "File['pop_2009'] = File['pop_2009']/1000\n",
    "File['per_capita_09'] = File['per_capita_09']/1000"
   ]
  },
  {
   "cell_type": "code",
   "execution_count": 3,
   "metadata": {},
   "outputs": [],
   "source": [
    "selected_features = ['pop_2009','per_capita_09']\n",
    "target = [\"PCH_GROC_09_14\"]"
   ]
  },
  {
   "cell_type": "code",
   "execution_count": 4,
   "metadata": {},
   "outputs": [],
   "source": [
    "Stores_data_frame = File[['pop_2009','RECFAC09','PCT_LACCESS_POP10',\n",
    "                     'METRO13','per_capita_09','PCT_LACCESS_LOWI10',\n",
    "                     'PCT_LACCESS_HHNV10','FFR09','FSR09',\"PCH_GROC_09_14\"]]\n",
    "Stores_data_frame = Stores_data_frame.fillna(0.0)"
   ]
  },
  {
   "cell_type": "code",
   "execution_count": 5,
   "metadata": {},
   "outputs": [],
   "source": [
    "def preprocess_features(Stores_data_frame):\n",
    "    selected_featur = Stores_data_frame[selected_features]\n",
    "    processed_features = selected_featur.copy()\n",
    "     # Create a synthetic feature.\n",
    "    return processed_features"
   ]
  },
  {
   "cell_type": "code",
   "execution_count": 6,
   "metadata": {},
   "outputs": [],
   "source": [
    "def preprocess_targets(Stores_data_frame):\n",
    "    output_targets = pd.DataFrame()\n",
    "    output_targets[target] =Stores_data_frame[target] \n",
    "    return output_targets"
   ]
  },
  {
   "cell_type": "code",
   "execution_count": 7,
   "metadata": {},
   "outputs": [],
   "source": [
    "from sklearn.model_selection import train_test_split"
   ]
  },
  {
   "cell_type": "code",
   "execution_count": 19,
   "metadata": {},
   "outputs": [],
   "source": [
    "training_examples, X_test, training_targets, Y_test = train_test_split(Stores_data_frame[selected_features], Stores_data_frame[target],\n",
    "                                                    test_size = 0.4, random_state = 1)"
   ]
  },
  {
   "cell_type": "code",
   "execution_count": 20,
   "metadata": {},
   "outputs": [],
   "source": [
    "testing_examples, validation_examples, testing_targets, validation_targets = train_test_split(X_test, Y_test,\n",
    "                                                    test_size = 0.5, random_state = 1)"
   ]
  },
  {
   "cell_type": "code",
   "execution_count": 21,
   "metadata": {},
   "outputs": [
    {
     "name": "stdout",
     "output_type": "stream",
     "text": [
      "(1852, 2)\n",
      "(617, 2)\n",
      "(618, 2)\n"
     ]
    }
   ],
   "source": [
    "print(training_examples.shape)\n",
    "print(testing_examples.shape)\n",
    "print(validation_examples.shape)"
   ]
  },
  {
   "cell_type": "code",
   "execution_count": 22,
   "metadata": {},
   "outputs": [],
   "source": [
    "def construct_feature_columns(input_features):\n",
    "    return set([tf.feature_column.numeric_column(my_feature)\n",
    "              for my_feature in input_features])"
   ]
  },
  {
   "cell_type": "code",
   "execution_count": 23,
   "metadata": {},
   "outputs": [],
   "source": [
    "def my_input_fn(features, targets, batch_size=1, shuffle=True, num_epochs=None):\n",
    "    # Convert pandas data into a dict of np arrays.\n",
    "    features = {key:np.array(value) for key,value in dict(features).items()}                                            \n",
    " \n",
    "    # Construct a dataset, and configure batching/repeating.\n",
    "    ds = Dataset.from_tensor_slices((features,targets)) # warning: 2GB limit\n",
    "    ds = ds.batch(batch_size).repeat(num_epochs)\n",
    "    \n",
    "    # Shuffle the data, if specified.\n",
    "    if shuffle:\n",
    "        ds = ds.shuffle(10000)\n",
    "    \n",
    "    # Return the next batch of data.\n",
    "    features, labels = ds.make_one_shot_iterator().get_next()\n",
    "    return features, labels"
   ]
  },
  {
   "cell_type": "code",
   "execution_count": 24,
   "metadata": {},
   "outputs": [],
   "source": [
    "def train_linear_classifier_model(\n",
    "    learning_rate,\n",
    "    steps,\n",
    "    batch_size,\n",
    "    training_examples,\n",
    "    training_targets,\n",
    "    validation_examples,\n",
    "    validation_targets,\n",
    "    my_optimizer,\n",
    "    hidden_units):\n",
    "    \n",
    "    periods = 10\n",
    "    steps_per_period = steps / periods\n",
    "  \n",
    "  # Create a linear classifier object.\n",
    "    my_optimizer = my_optimizer\n",
    "    my_optimizer = tf.contrib.estimator.clip_gradients_by_norm(my_optimizer, 5.0)  \n",
    "    linear_classifier = tf.estimator.DNNClassifier(\n",
    "      feature_columns=construct_feature_columns(training_examples),\n",
    "      optimizer=my_optimizer,\n",
    "     hidden_units = hidden_units)\n",
    "  \n",
    "  # Create input functions.\n",
    "    training_input_fn = lambda: my_input_fn(training_examples, \n",
    "                                          training_targets[\"PCH_GROC_09_14\"], \n",
    "                                          batch_size=batch_size)\n",
    "    predict_training_input_fn = lambda: my_input_fn(training_examples, \n",
    "                                                  training_targets[\"PCH_GROC_09_14\"], \n",
    "                                                  num_epochs=1, \n",
    "                                                  shuffle=False)\n",
    "    predict_validation_input_fn = lambda: my_input_fn(validation_examples, \n",
    "                                                    validation_targets[\"PCH_GROC_09_14\"], \n",
    "                                                    num_epochs=1, \n",
    "                                                    shuffle=False)\n",
    "  \n",
    "  # Train the model, but do so inside a loop so that we can periodically assess\n",
    "  # loss metrics.\n",
    "    print (\"Training model...\")\n",
    "    training_log_losses = []\n",
    "    validation_log_losses = []\n",
    "    for period in range (0, periods):\n",
    "        \n",
    "        linear_classifier.train(input_fn=training_input_fn,\n",
    "                                steps=steps_per_period)\n",
    "       # Take a break and compute predictions.\n",
    "        \n",
    "        training_probabilities = linear_classifier.predict(input_fn=predict_training_input_fn)\n",
    "        training_probabilities = np.array([item['probabilities'] for item in training_probabilities])\n",
    "\n",
    "        validation_probabilities = linear_classifier.predict(input_fn=predict_validation_input_fn)\n",
    "        validation_probabilities = np.array([item['probabilities'] for item in validation_probabilities])\n",
    "\n",
    "        training_log_loss = metrics.log_loss(training_targets, training_probabilities)\n",
    "        validation_log_loss = metrics.log_loss(validation_targets, validation_probabilities)\n",
    "        # Occasionally print the current loss.\n",
    "        print(period, training_log_loss)\n",
    "        # Add the loss metrics from this period to our list.\n",
    "        training_log_losses.append(training_log_loss)\n",
    "        validation_log_losses.append(validation_log_loss)\n",
    "   \n",
    "    print (\"Model training finished.\")\n",
    "  \n",
    "  # Output a graph of loss metrics over periods.\n",
    "    plt.ylabel(\"LogLoss\")\n",
    "    plt.xlabel(\"Periods\")\n",
    "    plt.title(\"LogLoss vs. Periods\")\n",
    "    plt.tight_layout()\n",
    "    plt.plot(training_log_losses, label=\"training\")\n",
    "    plt.plot(validation_log_losses, label=\"validation\")\n",
    "    plt.legend()\n",
    "\n",
    "    return linear_classifier"
   ]
  },
  {
   "cell_type": "code",
   "execution_count": 25,
   "metadata": {},
   "outputs": [
    {
     "name": "stdout",
     "output_type": "stream",
     "text": [
      "Training model...\n",
      "0 1.87556323257\n",
      "1 1.77098509145\n",
      "2 0.784270378449\n",
      "3 1.79180765553\n",
      "4 0.703761660391\n",
      "5 1.06320698095\n",
      "6 0.852724397169\n",
      "7 0.703575120163\n",
      "8 0.584340814929\n",
      "9 0.608058495196\n",
      "Model training finished.\n"
     ]
    },
    {
     "data": {
      "image/png": "[encoded data removed]",
      "text/plain": [
       "<Figure size 432x288 with 1 Axes>"
      ]
     },
     "metadata": {},
     "output_type": "display_data"
    }
   ],
   "source": [
    "linear_classifier = train_linear_classifier_model(\n",
    "    learning_rate=0.01,\n",
    "    steps=500,\n",
    "    batch_size=10,\n",
    "    training_examples=training_examples,\n",
    "    training_targets=training_targets,\n",
    "    validation_examples=testing_examples,\n",
    "    validation_targets=testing_targets,\n",
    "    my_optimizer = tf.train.GradientDescentOptimizer(learning_rate=0.01),\n",
    "    hidden_units=[10,10])"
   ]
  },
  {
   "cell_type": "code",
   "execution_count": 27,
   "metadata": {},
   "outputs": [
    {
     "name": "stdout",
     "output_type": "stream",
     "text": [
      "0.657751\n",
      "0.726094\n"
     ]
    }
   ],
   "source": [
    "predict_validation_input_fn = lambda: my_input_fn(testing_examples, \n",
    "                                                    testing_targets[\"PCH_GROC_09_14\"], \n",
    "                                                    num_epochs=1, \n",
    "                                                    shuffle=False)\n",
    "evaluation_metrics = linear_classifier.evaluate(input_fn=predict_validation_input_fn)\n",
    "print(evaluation_metrics['auc'])\n",
    "print(evaluation_metrics['accuracy'])"
   ]
  },
  {
   "cell_type": "code",
   "execution_count": 28,
   "metadata": {},
   "outputs": [
    {
     "name": "stdout",
     "output_type": "stream",
     "text": [
      "0.632456\n",
      "0.731392\n"
     ]
    }
   ],
   "source": [
    "predict_validation_input_fn = lambda: my_input_fn(validation_examples, \n",
    "                                                    validation_targets[\"PCH_GROC_09_14\"], \n",
    "                                                    num_epochs=1, \n",
    "                                                    shuffle=False)\n",
    "evaluation_metrics = linear_classifier.evaluate(input_fn=predict_validation_input_fn)\n",
    "print(evaluation_metrics['auc'])\n",
    "print(evaluation_metrics['accuracy'])"
   ]
  },
  {
   "cell_type": "code",
   "execution_count": 29,
   "metadata": {},
   "outputs": [],
   "source": [
    "def log_normalize(series):\n",
    "    return series.apply(lambda x:math.log(x+1.0))\n",
    "\n",
    "def normalize_log(examples_dataframe):\n",
    "    processed_features = pd.DataFrame()\n",
    "    processed_features[\"pop_2009\"] = log_normalize(examples_dataframe[\"pop_2009\"])\n",
    "    processed_features[\"per_capita_09\"] = log_normalize(examples_dataframe[\"per_capita_09\"])\n",
    "    return processed_features"
   ]
  },
  {
   "cell_type": "code",
   "execution_count": 32,
   "metadata": {},
   "outputs": [],
   "source": [
    "nor_log_training_examples = preprocess_features(normalize_log(preprocess_features(training_examples)))\n",
    "nor_log_testing_examples = preprocess_features(normalize_log(preprocess_features(testing_examples)))\n",
    "nor_log_validation_examples = preprocess_features(normalize_log(preprocess_features(validation_examples)))"
   ]
  },
  {
   "cell_type": "code",
   "execution_count": 34,
   "metadata": {},
   "outputs": [
    {
     "name": "stdout",
     "output_type": "stream",
     "text": [
      "Training model...\n",
      "0 0.546870602806\n",
      "1 0.564953233962\n",
      "2 0.547061840388\n",
      "3 0.57524138248\n",
      "4 0.537111606582\n",
      "5 0.541106659098\n",
      "6 0.538710227954\n",
      "7 0.543728500474\n",
      "8 0.538035468363\n",
      "9 0.537574631816\n",
      "Model training finished.\n"
     ]
    },
    {
     "data": {
      "image/png": "[encoded data removed]",
      "text/plain": [
       "<Figure size 432x288 with 1 Axes>"
      ]
     },
     "metadata": {},
     "output_type": "display_data"
    }
   ],
   "source": [
    "linear_classifier = train_linear_classifier_model(\n",
    "    learning_rate=0.01,\n",
    "    steps=500,\n",
    "    batch_size=10,\n",
    "    training_examples=nor_log_training_examples,\n",
    "    training_targets=training_targets,\n",
    "    validation_examples=nor_log_validation_examples,\n",
    "    validation_targets=validation_targets,\n",
    "    my_optimizer = tf.train.AdamOptimizer(learning_rate=0.01),\n",
    "    hidden_units=[10,10])"
   ]
  },
  {
   "cell_type": "code",
   "execution_count": 35,
   "metadata": {},
   "outputs": [
    {
     "name": "stdout",
     "output_type": "stream",
     "text": [
      "0.704384\n",
      "0.729335\n"
     ]
    }
   ],
   "source": [
    "predict_validation_input_fn = lambda: my_input_fn(nor_log_testing_examples, \n",
    "                                                    testing_targets[\"PCH_GROC_09_14\"], \n",
    "                                                    num_epochs=1, \n",
    "                                                    shuffle=False)\n",
    "evaluation_metrics = linear_classifier.evaluate(input_fn=predict_validation_input_fn)\n",
    "print(evaluation_metrics['auc'])\n",
    "print(evaluation_metrics['accuracy'])"
   ]
  },
  {
   "cell_type": "code",
   "execution_count": 36,
   "metadata": {},
   "outputs": [
    {
     "name": "stdout",
     "output_type": "stream",
     "text": [
      "0.673956\n",
      "0.734628\n"
     ]
    }
   ],
   "source": [
    "predict_validation_input_fn = lambda: my_input_fn(nor_log_validation_examples, \n",
    "                                                    validation_targets[\"PCH_GROC_09_14\"], \n",
    "                                                    num_epochs=1, \n",
    "                                                    shuffle=False)\n",
    "evaluation_metrics = linear_classifier.evaluate(input_fn=predict_validation_input_fn)\n",
    "print(evaluation_metrics['auc'])\n",
    "print(evaluation_metrics['accuracy'])"
   ]
  }
 ],
 "metadata": {
  "kernelspec": {
   "display_name": "Python 3",
   "language": "python",
   "name": "python3"
  },
  "language_info": {
   "codemirror_mode": {
    "name": "ipython",
    "version": 3
   },
   "file_extension": ".py",
   "mimetype": "text/x-python",
   "name": "python",
   "nbconvert_exporter": "python",
   "pygments_lexer": "ipython3",
   "version": "3.5.5"
  }
 },
 "nbformat": 4,
 "nbformat_minor": 2
}
