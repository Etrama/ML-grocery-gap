{
 "cells": [
  {
   "cell_type": "code",
   "execution_count": 1,
   "metadata": {},
   "outputs": [],
   "source": [
    "import math\n",
    "\n",
    "from IPython import display\n",
    "from matplotlib import cm\n",
    "from matplotlib import gridspec\n",
    "from matplotlib import pyplot as plt\n",
    "import numpy as np\n",
    "import pandas as pd\n",
    "from sklearn import metrics\n",
    "import tensorflow as tf\n",
    "from tensorflow.python.data import Dataset\n",
    "\n",
    "tf.logging.set_verbosity(tf.logging.ERROR)\n",
    "pd.options.display.max_rows = 10\n",
    "pd.options.display.float_format = '{:.1f}'.format"
   ]
  },
  {
   "cell_type": "markdown",
   "metadata": {},
   "source": [
    "# To read file"
   ]
  },
  {
   "cell_type": "code",
   "execution_count": 2,
   "metadata": {},
   "outputs": [],
   "source": [
    "File = pd.read_csv(r'C:\\Users\\rohishah\\Desktop\\ML_Hackathon\\predict_stores.csv')\n",
    "File.columns\n",
    "File['pop_2009'] = File['pop_2009']/1000\n",
    "File['per_capita_09'] = File['per_capita_09']/1000"
   ]
  },
  {
   "cell_type": "markdown",
   "metadata": {},
   "source": [
    "# Feature & target Selection"
   ]
  },
  {
   "cell_type": "code",
   "execution_count": 3,
   "metadata": {},
   "outputs": [],
   "source": [
    "selected_features = ['pop_2009','per_capita_09']\n",
    "target = [\"PCH_GROC_09_14\"]"
   ]
  },
  {
   "cell_type": "markdown",
   "metadata": {},
   "source": [
    "# Subset of data frame"
   ]
  },
  {
   "cell_type": "code",
   "execution_count": 4,
   "metadata": {},
   "outputs": [],
   "source": [
    "Stores_data_frame = File[['pop_2009','RECFAC09','PCT_LACCESS_POP10',\n",
    "                     'METRO13','per_capita_09','PCT_LACCESS_LOWI10',\n",
    "                     'PCT_LACCESS_HHNV10','FFR09','FSR09',\"PCH_GROC_09_14\"]]\n",
    "Stores_data_frame = Stores_data_frame.fillna(0.0)"
   ]
  },
  {
   "cell_type": "code",
   "execution_count": 5,
   "metadata": {},
   "outputs": [
    {
     "data": {
      "text/html": [
       "<div>\n",
       "<style scoped>\n",
       "    .dataframe tbody tr th:only-of-type {\n",
       "        vertical-align: middle;\n",
       "    }\n",
       "\n",
       "    .dataframe tbody tr th {\n",
       "        vertical-align: top;\n",
       "    }\n",
       "\n",
       "    .dataframe thead th {\n",
       "        text-align: right;\n",
       "    }\n",
       "</style>\n",
       "<table border=\"1\" class=\"dataframe\">\n",
       "  <thead>\n",
       "    <tr style=\"text-align: right;\">\n",
       "      <th></th>\n",
       "      <th>pop_2009</th>\n",
       "      <th>RECFAC09</th>\n",
       "      <th>PCT_LACCESS_POP10</th>\n",
       "      <th>METRO13</th>\n",
       "      <th>per_capita_09</th>\n",
       "      <th>PCT_LACCESS_LOWI10</th>\n",
       "      <th>PCT_LACCESS_HHNV10</th>\n",
       "      <th>FFR09</th>\n",
       "      <th>FSR09</th>\n",
       "      <th>PCH_GROC_09_14</th>\n",
       "    </tr>\n",
       "  </thead>\n",
       "  <tbody>\n",
       "    <tr>\n",
       "      <th>0</th>\n",
       "      <td>2.0</td>\n",
       "      <td>0</td>\n",
       "      <td>33.3</td>\n",
       "      <td>0</td>\n",
       "      <td>47.3</td>\n",
       "      <td>11.0</td>\n",
       "      <td>0.4</td>\n",
       "      <td>1</td>\n",
       "      <td>3</td>\n",
       "      <td>False</td>\n",
       "    </tr>\n",
       "    <tr>\n",
       "      <th>1</th>\n",
       "      <td>0.7</td>\n",
       "      <td>0</td>\n",
       "      <td>100.0</td>\n",
       "      <td>0</td>\n",
       "      <td>43.5</td>\n",
       "      <td>39.9</td>\n",
       "      <td>5.3</td>\n",
       "      <td>0</td>\n",
       "      <td>2</td>\n",
       "      <td>False</td>\n",
       "    </tr>\n",
       "    <tr>\n",
       "      <th>2</th>\n",
       "      <td>2346.4</td>\n",
       "      <td>179</td>\n",
       "      <td>20.0</td>\n",
       "      <td>1</td>\n",
       "      <td>39.1</td>\n",
       "      <td>8.0</td>\n",
       "      <td>1.4</td>\n",
       "      <td>1837</td>\n",
       "      <td>1554</td>\n",
       "      <td>True</td>\n",
       "    </tr>\n",
       "    <tr>\n",
       "      <th>3</th>\n",
       "      <td>295.6</td>\n",
       "      <td>24</td>\n",
       "      <td>24.7</td>\n",
       "      <td>1</td>\n",
       "      <td>32.8</td>\n",
       "      <td>6.2</td>\n",
       "      <td>1.2</td>\n",
       "      <td>202</td>\n",
       "      <td>201</td>\n",
       "      <td>False</td>\n",
       "    </tr>\n",
       "    <tr>\n",
       "      <th>4</th>\n",
       "      <td>31.4</td>\n",
       "      <td>3</td>\n",
       "      <td>3.4</td>\n",
       "      <td>0</td>\n",
       "      <td>31.5</td>\n",
       "      <td>1.1</td>\n",
       "      <td>2.1</td>\n",
       "      <td>20</td>\n",
       "      <td>27</td>\n",
       "      <td>False</td>\n",
       "    </tr>\n",
       "  </tbody>\n",
       "</table>\n",
       "</div>"
      ],
      "text/plain": [
       "   pop_2009  RECFAC09  PCT_LACCESS_POP10  METRO13  per_capita_09  \\\n",
       "0       2.0         0               33.3        0           47.3   \n",
       "1       0.7         0              100.0        0           43.5   \n",
       "2    2346.4       179               20.0        1           39.1   \n",
       "3     295.6        24               24.7        1           32.8   \n",
       "4      31.4         3                3.4        0           31.5   \n",
       "\n",
       "   PCT_LACCESS_LOWI10  PCT_LACCESS_HHNV10  FFR09  FSR09  PCH_GROC_09_14  \n",
       "0                11.0                 0.4      1      3           False  \n",
       "1                39.9                 5.3      0      2           False  \n",
       "2                 8.0                 1.4   1837   1554            True  \n",
       "3                 6.2                 1.2    202    201           False  \n",
       "4                 1.1                 2.1     20     27           False  "
      ]
     },
     "execution_count": 5,
     "metadata": {},
     "output_type": "execute_result"
    }
   ],
   "source": [
    "Stores_data_frame.head()"
   ]
  },
  {
   "cell_type": "code",
   "execution_count": 6,
   "metadata": {},
   "outputs": [],
   "source": [
    "def preprocess_features(Stores_data_frame):\n",
    "    selected_featur = Stores_data_frame[selected_features]\n",
    "    processed_features = selected_featur.copy()\n",
    "     # Create a synthetic feature.\n",
    "    return processed_features"
   ]
  },
  {
   "cell_type": "code",
   "execution_count": 7,
   "metadata": {},
   "outputs": [],
   "source": [
    "def preprocess_targets(Stores_data_frame):\n",
    "    output_targets = pd.DataFrame()\n",
    "    output_targets[target] =Stores_data_frame[target] \n",
    "    return output_targets"
   ]
  },
  {
   "cell_type": "markdown",
   "metadata": {},
   "source": [
    "# Spit data into traning & validation "
   ]
  },
  {
   "cell_type": "code",
   "execution_count": 8,
   "metadata": {},
   "outputs": [],
   "source": [
    "training_examples = preprocess_features(Stores_data_frame.head(2000))\n",
    "training_targets = preprocess_targets(Stores_data_frame.head(2000))\n",
    "validation_examples = preprocess_features(Stores_data_frame.tail(1086))\n",
    "validation_targets = preprocess_targets(Stores_data_frame.tail(1086))"
   ]
  },
  {
   "cell_type": "code",
   "execution_count": 9,
   "metadata": {},
   "outputs": [
    {
     "data": {
      "text/html": [
       "<div>\n",
       "<style scoped>\n",
       "    .dataframe tbody tr th:only-of-type {\n",
       "        vertical-align: middle;\n",
       "    }\n",
       "\n",
       "    .dataframe tbody tr th {\n",
       "        vertical-align: top;\n",
       "    }\n",
       "\n",
       "    .dataframe thead th {\n",
       "        text-align: right;\n",
       "    }\n",
       "</style>\n",
       "<table border=\"1\" class=\"dataframe\">\n",
       "  <thead>\n",
       "    <tr style=\"text-align: right;\">\n",
       "      <th></th>\n",
       "      <th>pop_2009</th>\n",
       "      <th>per_capita_09</th>\n",
       "    </tr>\n",
       "  </thead>\n",
       "  <tbody>\n",
       "    <tr>\n",
       "      <th>0</th>\n",
       "      <td>2.0</td>\n",
       "      <td>47.3</td>\n",
       "    </tr>\n",
       "    <tr>\n",
       "      <th>1</th>\n",
       "      <td>0.7</td>\n",
       "      <td>43.5</td>\n",
       "    </tr>\n",
       "    <tr>\n",
       "      <th>2</th>\n",
       "      <td>2346.4</td>\n",
       "      <td>39.1</td>\n",
       "    </tr>\n",
       "    <tr>\n",
       "      <th>3</th>\n",
       "      <td>295.6</td>\n",
       "      <td>32.8</td>\n",
       "    </tr>\n",
       "    <tr>\n",
       "      <th>4</th>\n",
       "      <td>31.4</td>\n",
       "      <td>31.5</td>\n",
       "    </tr>\n",
       "  </tbody>\n",
       "</table>\n",
       "</div>"
      ],
      "text/plain": [
       "   pop_2009  per_capita_09\n",
       "0       2.0           47.3\n",
       "1       0.7           43.5\n",
       "2    2346.4           39.1\n",
       "3     295.6           32.8\n",
       "4      31.4           31.5"
      ]
     },
     "execution_count": 9,
     "metadata": {},
     "output_type": "execute_result"
    }
   ],
   "source": [
    "training_examples.head()"
   ]
  },
  {
   "cell_type": "code",
   "execution_count": 10,
   "metadata": {},
   "outputs": [],
   "source": [
    "def construct_feature_columns(input_features):\n",
    "    return set([tf.feature_column.numeric_column(my_feature)\n",
    "              for my_feature in input_features])"
   ]
  },
  {
   "cell_type": "code",
   "execution_count": 11,
   "metadata": {},
   "outputs": [],
   "source": [
    "def my_input_fn(features, targets, batch_size=1, shuffle=True, num_epochs=None):\n",
    "    # Convert pandas data into a dict of np arrays.\n",
    "    features = {key:np.array(value) for key,value in dict(features).items()}                                            \n",
    " \n",
    "    # Construct a dataset, and configure batching/repeating.\n",
    "    ds = Dataset.from_tensor_slices((features,targets)) # warning: 2GB limit\n",
    "    ds = ds.batch(batch_size).repeat(num_epochs)\n",
    "    \n",
    "    # Shuffle the data, if specified.\n",
    "    if shuffle:\n",
    "        ds = ds.shuffle(10000)\n",
    "    \n",
    "    # Return the next batch of data.\n",
    "    features, labels = ds.make_one_shot_iterator().get_next()\n",
    "    return features, labels"
   ]
  },
  {
   "cell_type": "code",
   "execution_count": 12,
   "metadata": {},
   "outputs": [],
   "source": [
    "def train_linear_classifier_model(\n",
    "    learning_rate,\n",
    "    steps,\n",
    "    batch_size,\n",
    "    training_examples,\n",
    "    training_targets,\n",
    "    validation_examples,\n",
    "    validation_targets,\n",
    "    my_optimizer,\n",
    "    hidden_units):\n",
    "    \n",
    "    periods = 10\n",
    "    steps_per_period = steps / periods\n",
    "  \n",
    "  # Create a linear classifier object.\n",
    "    my_optimizer = my_optimizer\n",
    "    my_optimizer = tf.contrib.estimator.clip_gradients_by_norm(my_optimizer, 5.0)  \n",
    "    linear_classifier = tf.estimator.DNNClassifier(\n",
    "      feature_columns=construct_feature_columns(training_examples),\n",
    "      optimizer=my_optimizer,\n",
    "     hidden_units = hidden_units)\n",
    "  \n",
    "  # Create input functions.\n",
    "    training_input_fn = lambda: my_input_fn(training_examples, \n",
    "                                          training_targets[\"PCH_GROC_09_14\"], \n",
    "                                          batch_size=batch_size)\n",
    "    predict_training_input_fn = lambda: my_input_fn(training_examples, \n",
    "                                                  training_targets[\"PCH_GROC_09_14\"], \n",
    "                                                  num_epochs=1, \n",
    "                                                  shuffle=False)\n",
    "    predict_validation_input_fn = lambda: my_input_fn(validation_examples, \n",
    "                                                    validation_targets[\"PCH_GROC_09_14\"], \n",
    "                                                    num_epochs=1, \n",
    "                                                    shuffle=False)\n",
    "  \n",
    "  # Train the model, but do so inside a loop so that we can periodically assess\n",
    "  # loss metrics.\n",
    "    print (\"Training model...\")\n",
    "    training_log_losses = []\n",
    "    validation_log_losses = []\n",
    "    for period in range (0, periods):\n",
    "        \n",
    "        linear_classifier.train(input_fn=training_input_fn,\n",
    "                                steps=steps_per_period)\n",
    "       # Take a break and compute predictions.\n",
    "        \n",
    "        training_probabilities = linear_classifier.predict(input_fn=predict_training_input_fn)\n",
    "        training_probabilities = np.array([item['probabilities'] for item in training_probabilities])\n",
    "\n",
    "        validation_probabilities = linear_classifier.predict(input_fn=predict_validation_input_fn)\n",
    "        validation_probabilities = np.array([item['probabilities'] for item in validation_probabilities])\n",
    "\n",
    "        training_log_loss = metrics.log_loss(training_targets, training_probabilities)\n",
    "        validation_log_loss = metrics.log_loss(validation_targets, validation_probabilities)\n",
    "        # Occasionally print the current loss.\n",
    "        print(period, training_log_loss)\n",
    "        # Add the loss metrics from this period to our list.\n",
    "        training_log_losses.append(training_log_loss)\n",
    "        validation_log_losses.append(validation_log_loss)\n",
    "   \n",
    "    print (\"Model training finished.\")\n",
    "  \n",
    "  # Output a graph of loss metrics over periods.\n",
    "    plt.ylabel(\"LogLoss\")\n",
    "    plt.xlabel(\"Periods\")\n",
    "    plt.title(\"LogLoss vs. Periods\")\n",
    "    plt.tight_layout()\n",
    "    plt.plot(training_log_losses, label=\"training\")\n",
    "    plt.plot(validation_log_losses, label=\"validation\")\n",
    "    plt.legend()\n",
    "\n",
    "    return linear_classifier"
   ]
  },
  {
   "cell_type": "markdown",
   "metadata": {},
   "source": [
    "# gradient descent optimizer"
   ]
  },
  {
   "cell_type": "code",
   "execution_count": 13,
   "metadata": {},
   "outputs": [
    {
     "name": "stdout",
     "output_type": "stream",
     "text": [
      "Training model...\n",
      "0 1.29373316303\n",
      "1 0.872198962264\n",
      "2 1.14737109413\n",
      "3 0.67730757914\n",
      "4 0.657736259409\n",
      "5 0.674121249315\n",
      "6 0.676413336352\n",
      "7 0.696871896077\n",
      "8 0.581282265914\n",
      "9 0.585140089853\n",
      "Model training finished.\n"
     ]
    },
    {
     "data": {
      "image/png": "[encoded data removed]",
      "text/plain": [
       "<Figure size 432x288 with 1 Axes>"
      ]
     },
     "metadata": {},
     "output_type": "display_data"
    }
   ],
   "source": [
    "linear_classifier = train_linear_classifier_model(\n",
    "    learning_rate=0.01,\n",
    "    steps=500,\n",
    "    batch_size=10,\n",
    "    training_examples=training_examples,\n",
    "    training_targets=training_targets,\n",
    "    validation_examples=validation_examples,\n",
    "    validation_targets=validation_targets,\n",
    "    my_optimizer = tf.train.GradientDescentOptimizer(learning_rate=0.01),\n",
    "    hidden_units=[10,10])"
   ]
  },
  {
   "cell_type": "code",
   "execution_count": 14,
   "metadata": {},
   "outputs": [
    {
     "name": "stdout",
     "output_type": "stream",
     "text": [
      "0.680829\n",
      "0.735727\n"
     ]
    }
   ],
   "source": [
    "predict_validation_input_fn = lambda: my_input_fn(validation_examples, \n",
    "                                                    validation_targets[\"PCH_GROC_09_14\"], \n",
    "                                                    num_epochs=1, \n",
    "                                                    shuffle=False)\n",
    "evaluation_metrics = linear_classifier.evaluate(input_fn=predict_validation_input_fn)\n",
    "print(evaluation_metrics['auc'])\n",
    "print(evaluation_metrics['accuracy'])\n",
    "validation_probabilities = linear_classifier.predict(input_fn=predict_validation_input_fn)\n",
    "validation_probabilities = np.array([item['probabilities'][1] for item in validation_probabilities])"
   ]
  },
  {
   "cell_type": "code",
   "execution_count": 15,
   "metadata": {},
   "outputs": [
    {
     "data": {
      "image/png": "[encoded data removed]",
      "text/plain": [
       "<Figure size 432x288 with 1 Axes>"
      ]
     },
     "metadata": {},
     "output_type": "display_data"
    }
   ],
   "source": [
    "false_positive_rate, true_positive_rate, thresholds = metrics.roc_curve(\n",
    "    validation_targets, validation_probabilities)\n",
    "plt.plot(false_positive_rate, true_positive_rate, label=\"our model\")\n",
    "plt.plot([0, 1], [0, 1], label=\"random classifier\")\n",
    "_ = plt.legend(loc=2)"
   ]
  },
  {
   "cell_type": "markdown",
   "metadata": {},
   "source": [
    "# Print prediction: to check model predicts different values & not constant value"
   ]
  },
  {
   "cell_type": "code",
   "execution_count": 16,
   "metadata": {},
   "outputs": [
    {
     "name": "stdout",
     "output_type": "stream",
     "text": [
      "0.164826\n",
      "0.102956\n",
      "0.217938\n",
      "0.441551\n",
      "0.242807\n",
      "0.387496\n",
      "0.0797325\n",
      "0.0865169\n",
      "0.0981973\n"
     ]
    }
   ],
   "source": [
    "counter = 1\n",
    "for items in validation_probabilities:\n",
    "    counter = counter + 1\n",
    "    if counter > 10:\n",
    "        break\n",
    "    print(items)"
   ]
  },
  {
   "cell_type": "markdown",
   "metadata": {},
   "source": [
    "# Adam optimizer"
   ]
  },
  {
   "cell_type": "code",
   "execution_count": 17,
   "metadata": {},
   "outputs": [
    {
     "name": "stdout",
     "output_type": "stream",
     "text": [
      "Training model...\n",
      "0 1.57373738079\n",
      "1 2.2090661269\n",
      "2 1.39365770644\n",
      "3 0.688951700821\n",
      "4 0.824152272512\n",
      "5 0.616048513221\n",
      "6 0.869587224272\n",
      "7 0.646592210863\n",
      "8 0.718881845436\n",
      "9 0.59032942378\n",
      "Model training finished.\n"
     ]
    },
    {
     "data": {
      "image/png": "[encoded data removed]",
      "text/plain": [
       "<Figure size 432x288 with 1 Axes>"
      ]
     },
     "metadata": {},
     "output_type": "display_data"
    }
   ],
   "source": [
    "linear_classifier = train_linear_classifier_model(\n",
    "    learning_rate=0.01,\n",
    "    steps=500,\n",
    "    batch_size=10,\n",
    "    training_examples=training_examples,\n",
    "    training_targets=training_targets,\n",
    "    validation_examples=validation_examples,\n",
    "    validation_targets=validation_targets,\n",
    "    my_optimizer = tf.train.AdamOptimizer(learning_rate=0.01),\n",
    "    hidden_units=[10,10])"
   ]
  },
  {
   "cell_type": "code",
   "execution_count": 18,
   "metadata": {},
   "outputs": [
    {
     "name": "stdout",
     "output_type": "stream",
     "text": [
      "0.681658\n",
      "0.72744\n"
     ]
    }
   ],
   "source": [
    "predict_validation_input_fn = lambda: my_input_fn(validation_examples, \n",
    "                                                    validation_targets[\"PCH_GROC_09_14\"], \n",
    "                                                    num_epochs=1, \n",
    "                                                    shuffle=False)\n",
    "evaluation_metrics = linear_classifier.evaluate(input_fn=predict_validation_input_fn)\n",
    "print(evaluation_metrics['auc'])\n",
    "print(evaluation_metrics['accuracy'])\n",
    "validation_probabilities = linear_classifier.predict(input_fn=predict_validation_input_fn)\n",
    "validation_probabilities = np.array([item['probabilities'][1] for item in validation_probabilities])"
   ]
  },
  {
   "cell_type": "code",
   "execution_count": 19,
   "metadata": {},
   "outputs": [
    {
     "name": "stdout",
     "output_type": "stream",
     "text": [
      "0.127458\n",
      "0.0799786\n",
      "0.209169\n",
      "0.412203\n",
      "0.238918\n",
      "0.412203\n",
      "0.0671793\n",
      "0.0650684\n",
      "0.0864116\n"
     ]
    }
   ],
   "source": [
    "counter = 1\n",
    "for items in validation_probabilities:\n",
    "    counter = counter + 1\n",
    "    if counter > 10:\n",
    "        break\n",
    "    print(items)"
   ]
  },
  {
   "cell_type": "markdown",
   "metadata": {},
   "source": [
    "# Normalized data : Method - Linear scalar"
   ]
  },
  {
   "cell_type": "code",
   "execution_count": 20,
   "metadata": {},
   "outputs": [],
   "source": [
    "def linear_scale(series):\n",
    "    min_val = series.min()\n",
    "    max_val = series.max()\n",
    "    scale = (max_val - min_val) / 2.0\n",
    "    return series.apply(lambda x:((x - min_val) / scale) - 1.0)\n",
    "\n",
    "def normalize_linear_scale(examples_dataframe):\n",
    "    processed_features = pd.DataFrame()\n",
    "    processed_features[\"pop_2009\"] = linear_scale(examples_dataframe[\"pop_2009\"])\n",
    "    processed_features[\"per_capita_09\"] = linear_scale(examples_dataframe[\"per_capita_09\"])\n",
    "    return processed_features"
   ]
  },
  {
   "cell_type": "code",
   "execution_count": 21,
   "metadata": {},
   "outputs": [],
   "source": [
    "normalized_dataframe = normalize_linear_scale(preprocess_features(Stores_data_frame))\n",
    "nor_training_examples = preprocess_features(normalized_dataframe.head(2000))\n",
    "nor_validation_examples = preprocess_features(normalized_dataframe.tail(1086))"
   ]
  },
  {
   "cell_type": "markdown",
   "metadata": {},
   "source": [
    "# adam Optimizer with linear scalar"
   ]
  },
  {
   "cell_type": "code",
   "execution_count": 22,
   "metadata": {},
   "outputs": [
    {
     "name": "stdout",
     "output_type": "stream",
     "text": [
      "Training model...\n",
      "0 0.591671231657\n",
      "1 0.588956627861\n",
      "2 0.592373932295\n",
      "3 0.654423039645\n",
      "4 0.58288053406\n",
      "5 0.585836105973\n",
      "6 0.587443446144\n",
      "7 0.628636170711\n",
      "8 0.603499194831\n",
      "9 0.5858816652\n",
      "Model training finished.\n"
     ]
    },
    {
     "data": {
      "image/png": "[encoded data removed]",
      "text/plain": [
       "<Figure size 432x288 with 1 Axes>"
      ]
     },
     "metadata": {},
     "output_type": "display_data"
    }
   ],
   "source": [
    "linear_classifier = train_linear_classifier_model(\n",
    "    learning_rate=0.01,\n",
    "    steps=500,\n",
    "    batch_size=10,\n",
    "    training_examples=nor_training_examples,\n",
    "    training_targets=training_targets,\n",
    "    validation_examples=nor_validation_examples,\n",
    "    validation_targets=validation_targets,\n",
    "    my_optimizer = tf.train.AdamOptimizer(learning_rate=0.01),\n",
    "    hidden_units=[10,10])"
   ]
  },
  {
   "cell_type": "code",
   "execution_count": 23,
   "metadata": {},
   "outputs": [
    {
     "name": "stdout",
     "output_type": "stream",
     "text": [
      "0.59301\n",
      "0.733886\n"
     ]
    }
   ],
   "source": [
    "predict_validation_input_fn = lambda: my_input_fn(nor_validation_examples, \n",
    "                                                    validation_targets[\"PCH_GROC_09_14\"], \n",
    "                                                    num_epochs=1, \n",
    "                                                    shuffle=False)\n",
    "evaluation_metrics = linear_classifier.evaluate(input_fn=predict_validation_input_fn)\n",
    "print(evaluation_metrics['auc'])\n",
    "print(evaluation_metrics['accuracy'])"
   ]
  },
  {
   "cell_type": "code",
   "execution_count": 24,
   "metadata": {},
   "outputs": [],
   "source": [
    "nor_validation_probabilities = linear_classifier.predict(input_fn=predict_validation_input_fn)\n",
    "nor_validation_probabilitie = np.array([item['probabilities'][1] for item in nor_validation_probabilities])"
   ]
  },
  {
   "cell_type": "code",
   "execution_count": 25,
   "metadata": {},
   "outputs": [
    {
     "name": "stdout",
     "output_type": "stream",
     "text": [
      "0.274095\n",
      "0.294693\n",
      "0.30844\n",
      "0.312716\n",
      "0.294983\n",
      "0.316865\n",
      "0.29991\n",
      "0.314644\n",
      "0.281915\n"
     ]
    }
   ],
   "source": [
    "counter = 1\n",
    "for items in nor_validation_probabilitie:\n",
    "    counter = counter + 1\n",
    "    if counter > 10:\n",
    "        break\n",
    "    print(items)"
   ]
  },
  {
   "cell_type": "markdown",
   "metadata": {},
   "source": [
    "# gradient descent with linear scalar"
   ]
  },
  {
   "cell_type": "code",
   "execution_count": 26,
   "metadata": {},
   "outputs": [
    {
     "name": "stdout",
     "output_type": "stream",
     "text": [
      "Training model...\n",
      "0 0.591161469981\n",
      "1 0.620206016518\n",
      "2 0.591162273481\n",
      "3 0.590263577789\n",
      "4 0.591890040204\n",
      "5 0.594180027291\n",
      "6 0.588651898578\n",
      "7 0.588518325657\n",
      "8 0.589245005906\n",
      "9 0.598477493934\n",
      "Model training finished.\n"
     ]
    },
    {
     "data": {
      "image/png": "[encoded data removed]",
      "text/plain": [
       "<Figure size 432x288 with 1 Axes>"
      ]
     },
     "metadata": {},
     "output_type": "display_data"
    }
   ],
   "source": [
    "linear_classifier = train_linear_classifier_model(\n",
    "    learning_rate=0.01,\n",
    "    steps=500,\n",
    "    batch_size=10,\n",
    "    training_examples=nor_training_examples,\n",
    "    training_targets=training_targets,\n",
    "    validation_examples=nor_validation_examples,\n",
    "    validation_targets=validation_targets,\n",
    "    my_optimizer = tf.train.GradientDescentOptimizer(learning_rate=0.01),\n",
    "    hidden_units=[10,10])"
   ]
  },
  {
   "cell_type": "code",
   "execution_count": 27,
   "metadata": {},
   "outputs": [
    {
     "data": {
      "text/plain": [
       "0.72928178"
      ]
     },
     "execution_count": 27,
     "metadata": {},
     "output_type": "execute_result"
    }
   ],
   "source": [
    "predict_validation_input_fn = lambda: my_input_fn(nor_validation_examples, \n",
    "                                                    validation_targets[\"PCH_GROC_09_14\"], \n",
    "                                                    num_epochs=1, \n",
    "                                                    shuffle=False)\n",
    "evaluation_metrics = linear_classifier.evaluate(input_fn=predict_validation_input_fn)\n",
    "print(evaluation_metrics['auc'])\n",
    "print(evaluation_metrics['accuracy'])"
   ]
  },
  {
   "cell_type": "markdown",
   "metadata": {},
   "source": [
    "# Normalized data : Method - Log"
   ]
  },
  {
   "cell_type": "code",
   "execution_count": 28,
   "metadata": {},
   "outputs": [],
   "source": [
    "def log_normalize(series):\n",
    "    return series.apply(lambda x:math.log(x+1.0))\n",
    "\n",
    "def normalize_log(examples_dataframe):\n",
    "    processed_features = pd.DataFrame()\n",
    "    processed_features[\"pop_2009\"] = log_normalize(examples_dataframe[\"pop_2009\"])\n",
    "    processed_features[\"per_capita_09\"] = log_normalize(examples_dataframe[\"per_capita_09\"])\n",
    "    return processed_features"
   ]
  },
  {
   "cell_type": "code",
   "execution_count": 29,
   "metadata": {},
   "outputs": [],
   "source": [
    "log_normalized_dataframe = normalize_log(preprocess_features(Stores_data_frame))\n",
    "nor_log_training_examples = preprocess_features(log_normalized_dataframe.head(2000))\n",
    "nor_log_validation_examples = preprocess_features(log_normalized_dataframe.tail(1086))"
   ]
  },
  {
   "cell_type": "markdown",
   "metadata": {},
   "source": [
    "# adam optimizer with log normalized data"
   ]
  },
  {
   "cell_type": "code",
   "execution_count": 30,
   "metadata": {},
   "outputs": [
    {
     "name": "stdout",
     "output_type": "stream",
     "text": [
      "Training model...\n",
      "0 0.578125541314\n",
      "1 0.578645838276\n",
      "2 0.546918752618\n",
      "3 0.547736923136\n",
      "4 0.554792490024\n",
      "5 0.548861514818\n",
      "6 0.561908121668\n",
      "7 0.54666702491\n",
      "8 0.585122094302\n",
      "9 0.545502548903\n",
      "Model training finished.\n"
     ]
    },
    {
     "data": {
      "image/png": "[encoded data removed]",
      "text/plain": [
       "<Figure size 432x288 with 1 Axes>"
      ]
     },
     "metadata": {},
     "output_type": "display_data"
    }
   ],
   "source": [
    "linear_classifier = train_linear_classifier_model(\n",
    "    learning_rate=0.01,\n",
    "    steps=500,\n",
    "    batch_size=10,\n",
    "    training_examples=nor_log_training_examples,\n",
    "    training_targets=training_targets,\n",
    "    validation_examples=nor_log_validation_examples,\n",
    "    validation_targets=validation_targets,\n",
    "    my_optimizer = tf.train.AdamOptimizer(learning_rate=0.01),\n",
    "    hidden_units=[10,10])"
   ]
  },
  {
   "cell_type": "code",
   "execution_count": 31,
   "metadata": {},
   "outputs": [
    {
     "name": "stdout",
     "output_type": "stream",
     "text": [
      "0.691554\n",
      "0.754144\n"
     ]
    }
   ],
   "source": [
    "predict_validation_input_fn = lambda: my_input_fn(nor_log_validation_examples, \n",
    "                                                    validation_targets[\"PCH_GROC_09_14\"], \n",
    "                                                    num_epochs=1, \n",
    "                                                    shuffle=False)\n",
    "evaluation_metrics = linear_classifier.evaluate(input_fn=predict_validation_input_fn)\n",
    "print(evaluation_metrics['auc'])\n",
    "print(evaluation_metrics['accuracy'])"
   ]
  },
  {
   "cell_type": "markdown",
   "metadata": {},
   "source": [
    "# gradient descent with log normalized data"
   ]
  },
  {
   "cell_type": "code",
   "execution_count": 32,
   "metadata": {},
   "outputs": [
    {
     "name": "stdout",
     "output_type": "stream",
     "text": [
      "Training model...\n",
      "0 0.642544199556\n",
      "1 0.57619861646\n",
      "2 0.565313759062\n",
      "3 0.545377465118\n",
      "4 0.545641182709\n",
      "5 0.55039687055\n",
      "6 0.551557327334\n",
      "7 0.564647063183\n",
      "8 0.546714637771\n",
      "9 0.554807812706\n",
      "Model training finished.\n"
     ]
    },
    {
     "data": {
      "image/png": "[encoded data removed]",
      "text/plain": [
       "<Figure size 432x288 with 1 Axes>"
      ]
     },
     "metadata": {},
     "output_type": "display_data"
    }
   ],
   "source": [
    "linear_classifier = train_linear_classifier_model(\n",
    "    learning_rate=0.01,\n",
    "    steps=500,\n",
    "    batch_size=10,\n",
    "    training_examples=nor_log_training_examples,\n",
    "    training_targets=training_targets,\n",
    "    validation_examples=nor_log_validation_examples,\n",
    "    validation_targets=validation_targets,\n",
    "    my_optimizer = tf.train.GradientDescentOptimizer(learning_rate=0.01),\n",
    "    hidden_units=[10,10])"
   ]
  },
  {
   "cell_type": "code",
   "execution_count": 33,
   "metadata": {},
   "outputs": [
    {
     "name": "stdout",
     "output_type": "stream",
     "text": [
      "0.692931\n",
      "0.74954\n"
     ]
    }
   ],
   "source": [
    "predict_validation_input_fn = lambda: my_input_fn(nor_log_validation_examples, \n",
    "                                                    validation_targets[\"PCH_GROC_09_14\"], \n",
    "                                                    num_epochs=1, \n",
    "                                                    shuffle=False)\n",
    "evaluation_metrics = linear_classifier.evaluate(input_fn=predict_validation_input_fn)\n",
    "print(evaluation_metrics['auc'])\n",
    "print(evaluation_metrics['accuracy'])"
   ]
  }
 ],
 "metadata": {
  "kernelspec": {
   "display_name": "Python 3",
   "language": "python",
   "name": "python3"
  },
  "language_info": {
   "codemirror_mode": {
    "name": "ipython",
    "version": 3
   },
   "file_extension": ".py",
   "mimetype": "text/x-python",
   "name": "python",
   "nbconvert_exporter": "python",
   "pygments_lexer": "ipython3",
   "version": "3.5.5"
  }
 },
 "nbformat": 4,
 "nbformat_minor": 2
}
