{
 "cells": [
  {
   "cell_type": "code",
   "execution_count": 1,
   "metadata": {},
   "outputs": [],
   "source": [
    "import math\n",
    "\n",
    "from IPython import display\n",
    "from matplotlib import cm\n",
    "from matplotlib import gridspec\n",
    "from matplotlib import pyplot as plt\n",
    "import numpy as np\n",
    "import pandas as pd\n",
    "from sklearn import metrics\n",
    "import tensorflow as tf\n",
    "from tensorflow.python.data import Dataset\n",
    "\n",
    "tf.logging.set_verbosity(tf.logging.ERROR)\n",
    "pd.options.display.max_rows = 10\n",
    "pd.options.display.float_format = '{:.1f}'.format"
   ]
  },
  {
   "cell_type": "code",
   "execution_count": 2,
   "metadata": {},
   "outputs": [],
   "source": [
    "Stores_data_frame = pd.read_excel(r'C:\\Users\\rohishah\\Desktop\\ML_Hackathon\\final_store_prediction.xlsx')"
   ]
  },
  {
   "cell_type": "code",
   "execution_count": 3,
   "metadata": {},
   "outputs": [],
   "source": [
    "Stores_data_frame = Stores_data_frame.drop('FIPS',axis = 1)"
   ]
  },
  {
   "cell_type": "code",
   "execution_count": 4,
   "metadata": {},
   "outputs": [],
   "source": [
    "Stores_data_frame['POP_2009'] = Stores_data_frame['POP_2009'] / 1000"
   ]
  },
  {
   "cell_type": "code",
   "execution_count": 5,
   "metadata": {},
   "outputs": [
    {
     "data": {
      "text/html": [
       "<div>\n",
       "<style scoped>\n",
       "    .dataframe tbody tr th:only-of-type {\n",
       "        vertical-align: middle;\n",
       "    }\n",
       "\n",
       "    .dataframe tbody tr th {\n",
       "        vertical-align: top;\n",
       "    }\n",
       "\n",
       "    .dataframe thead th {\n",
       "        text-align: right;\n",
       "    }\n",
       "</style>\n",
       "<table border=\"1\" class=\"dataframe\">\n",
       "  <thead>\n",
       "    <tr style=\"text-align: right;\">\n",
       "      <th></th>\n",
       "      <th>POP_2009</th>\n",
       "      <th>PCT_LACCESS_POP10</th>\n",
       "      <th>PCT_LACCESS_LOWI10</th>\n",
       "      <th>PCT_LACCESS_HHNV10</th>\n",
       "      <th>PCT_LACCESS_CHILD10</th>\n",
       "      <th>PCT_LACCESS_SENIORS10</th>\n",
       "      <th>GROCPTH09</th>\n",
       "      <th>FFRPTH09</th>\n",
       "      <th>SNAP_OAPP09</th>\n",
       "      <th>FOODINSEC_10_12</th>\n",
       "      <th>...</th>\n",
       "      <th>PCT_OBESE_ADULTS08</th>\n",
       "      <th>RECFACPTH09</th>\n",
       "      <th>PCT_65OLDER10</th>\n",
       "      <th>PCT_18YOUNGER10</th>\n",
       "      <th>MEDHHINC15</th>\n",
       "      <th>POVRATE15</th>\n",
       "      <th>METRO13</th>\n",
       "      <th>GROC09</th>\n",
       "      <th>PER_CAPITA_INCOME</th>\n",
       "      <th>PCH_GROC_09_14</th>\n",
       "    </tr>\n",
       "  </thead>\n",
       "  <tbody>\n",
       "    <tr>\n",
       "      <th>0</th>\n",
       "      <td>54.1</td>\n",
       "      <td>33.8</td>\n",
       "      <td>9.8</td>\n",
       "      <td>3.3</td>\n",
       "      <td>8.8</td>\n",
       "      <td>4.4</td>\n",
       "      <td>0.1</td>\n",
       "      <td>0.6</td>\n",
       "      <td>0.0</td>\n",
       "      <td>17.9</td>\n",
       "      <td>...</td>\n",
       "      <td>31.5</td>\n",
       "      <td>4.0</td>\n",
       "      <td>12.0</td>\n",
       "      <td>26.8</td>\n",
       "      <td>56580.0</td>\n",
       "      <td>12.7</td>\n",
       "      <td>1.0</td>\n",
       "      <td>6</td>\n",
       "      <td>32602</td>\n",
       "      <td>-33.3</td>\n",
       "    </tr>\n",
       "    <tr>\n",
       "      <th>1</th>\n",
       "      <td>179.4</td>\n",
       "      <td>19.3</td>\n",
       "      <td>5.5</td>\n",
       "      <td>2.1</td>\n",
       "      <td>4.3</td>\n",
       "      <td>3.5</td>\n",
       "      <td>0.1</td>\n",
       "      <td>0.6</td>\n",
       "      <td>0.0</td>\n",
       "      <td>17.9</td>\n",
       "      <td>...</td>\n",
       "      <td>26.2</td>\n",
       "      <td>18.0</td>\n",
       "      <td>16.8</td>\n",
       "      <td>23.0</td>\n",
       "      <td>52387.0</td>\n",
       "      <td>12.9</td>\n",
       "      <td>1.0</td>\n",
       "      <td>24</td>\n",
       "      <td>34768</td>\n",
       "      <td>20.8</td>\n",
       "    </tr>\n",
       "    <tr>\n",
       "      <th>2</th>\n",
       "      <td>27.7</td>\n",
       "      <td>20.8</td>\n",
       "      <td>11.4</td>\n",
       "      <td>4.1</td>\n",
       "      <td>3.4</td>\n",
       "      <td>2.8</td>\n",
       "      <td>0.2</td>\n",
       "      <td>0.8</td>\n",
       "      <td>0.0</td>\n",
       "      <td>17.9</td>\n",
       "      <td>...</td>\n",
       "      <td>37.6</td>\n",
       "      <td>1.0</td>\n",
       "      <td>14.2</td>\n",
       "      <td>21.9</td>\n",
       "      <td>31433.0</td>\n",
       "      <td>32.0</td>\n",
       "      <td>0.0</td>\n",
       "      <td>5</td>\n",
       "      <td>26461</td>\n",
       "      <td>0.0</td>\n",
       "    </tr>\n",
       "    <tr>\n",
       "      <th>3</th>\n",
       "      <td>22.9</td>\n",
       "      <td>4.6</td>\n",
       "      <td>2.1</td>\n",
       "      <td>3.5</td>\n",
       "      <td>1.1</td>\n",
       "      <td>0.7</td>\n",
       "      <td>0.3</td>\n",
       "      <td>0.3</td>\n",
       "      <td>0.0</td>\n",
       "      <td>17.9</td>\n",
       "      <td>...</td>\n",
       "      <td>32.3</td>\n",
       "      <td>1.0</td>\n",
       "      <td>12.7</td>\n",
       "      <td>22.7</td>\n",
       "      <td>40767.0</td>\n",
       "      <td>22.2</td>\n",
       "      <td>1.0</td>\n",
       "      <td>6</td>\n",
       "      <td>23803</td>\n",
       "      <td>-16.7</td>\n",
       "    </tr>\n",
       "    <tr>\n",
       "      <th>4</th>\n",
       "      <td>57.3</td>\n",
       "      <td>2.7</td>\n",
       "      <td>1.1</td>\n",
       "      <td>3.3</td>\n",
       "      <td>0.7</td>\n",
       "      <td>0.3</td>\n",
       "      <td>0.1</td>\n",
       "      <td>0.4</td>\n",
       "      <td>0.0</td>\n",
       "      <td>17.9</td>\n",
       "      <td>...</td>\n",
       "      <td>31.9</td>\n",
       "      <td>3.0</td>\n",
       "      <td>14.7</td>\n",
       "      <td>24.6</td>\n",
       "      <td>50487.0</td>\n",
       "      <td>14.7</td>\n",
       "      <td>1.0</td>\n",
       "      <td>6</td>\n",
       "      <td>27417</td>\n",
       "      <td>0.0</td>\n",
       "    </tr>\n",
       "  </tbody>\n",
       "</table>\n",
       "<p>5 rows × 27 columns</p>\n",
       "</div>"
      ],
      "text/plain": [
       "   POP_2009  PCT_LACCESS_POP10  PCT_LACCESS_LOWI10  PCT_LACCESS_HHNV10  \\\n",
       "0      54.1               33.8                 9.8                 3.3   \n",
       "1     179.4               19.3                 5.5                 2.1   \n",
       "2      27.7               20.8                11.4                 4.1   \n",
       "3      22.9                4.6                 2.1                 3.5   \n",
       "4      57.3                2.7                 1.1                 3.3   \n",
       "\n",
       "   PCT_LACCESS_CHILD10  PCT_LACCESS_SENIORS10  GROCPTH09  FFRPTH09  \\\n",
       "0                  8.8                    4.4        0.1       0.6   \n",
       "1                  4.3                    3.5        0.1       0.6   \n",
       "2                  3.4                    2.8        0.2       0.8   \n",
       "3                  1.1                    0.7        0.3       0.3   \n",
       "4                  0.7                    0.3        0.1       0.4   \n",
       "\n",
       "   SNAP_OAPP09  FOODINSEC_10_12       ...        PCT_OBESE_ADULTS08  \\\n",
       "0          0.0             17.9       ...                      31.5   \n",
       "1          0.0             17.9       ...                      26.2   \n",
       "2          0.0             17.9       ...                      37.6   \n",
       "3          0.0             17.9       ...                      32.3   \n",
       "4          0.0             17.9       ...                      31.9   \n",
       "\n",
       "   RECFACPTH09  PCT_65OLDER10  PCT_18YOUNGER10  MEDHHINC15  POVRATE15  \\\n",
       "0          4.0           12.0             26.8     56580.0       12.7   \n",
       "1         18.0           16.8             23.0     52387.0       12.9   \n",
       "2          1.0           14.2             21.9     31433.0       32.0   \n",
       "3          1.0           12.7             22.7     40767.0       22.2   \n",
       "4          3.0           14.7             24.6     50487.0       14.7   \n",
       "\n",
       "   METRO13  GROC09  PER_CAPITA_INCOME  PCH_GROC_09_14  \n",
       "0      1.0       6              32602           -33.3  \n",
       "1      1.0      24              34768            20.8  \n",
       "2      0.0       5              26461             0.0  \n",
       "3      1.0       6              23803           -16.7  \n",
       "4      1.0       6              27417             0.0  \n",
       "\n",
       "[5 rows x 27 columns]"
      ]
     },
     "execution_count": 5,
     "metadata": {},
     "output_type": "execute_result"
    }
   ],
   "source": [
    "Stores_data_frame.head()"
   ]
  },
  {
   "cell_type": "code",
   "execution_count": 6,
   "metadata": {},
   "outputs": [],
   "source": [
    "Stores_data_frame = Stores_data_frame.fillna(0.0)"
   ]
  },
  {
   "cell_type": "code",
   "execution_count": 7,
   "metadata": {},
   "outputs": [],
   "source": [
    "Stores_data_frame = Stores_data_frame.reindex(np.random.permutation(Stores_data_frame.index))"
   ]
  },
  {
   "cell_type": "code",
   "execution_count": 8,
   "metadata": {},
   "outputs": [],
   "source": [
    "def preprocess_features(Stores_data_frame):\n",
    "    selected_features = Stores_data_frame[\n",
    "    [\"POP_2009\",\"PCT_LACCESS_POP10\",\"MEDHHINC15\",\"PER_CAPITA_INCOME\"]]\n",
    "    processed_features = selected_features.copy()\n",
    "     # Create a synthetic feature.\n",
    "    return processed_features"
   ]
  },
  {
   "cell_type": "code",
   "execution_count": 9,
   "metadata": {},
   "outputs": [],
   "source": [
    "def preprocess_targets(Stores_data_frame):\n",
    "    output_targets = pd.DataFrame()\n",
    "    output_targets[\"PCH_GROC_09_14\"] = (\n",
    "    Stores_data_frame[\"PCH_GROC_09_14\"] < 0 ).astype(float)\n",
    "    return output_targets"
   ]
  },
  {
   "cell_type": "code",
   "execution_count": 10,
   "metadata": {},
   "outputs": [],
   "source": [
    "training_examples = preprocess_features(Stores_data_frame.head(2000))\n",
    "training_targets = preprocess_targets(Stores_data_frame.head(2000))\n",
    "\n",
    "# Choose the last 5000 (out of 17000) examples for validation.\n",
    "validation_examples = preprocess_features(Stores_data_frame.tail(1086))\n",
    "validation_targets = preprocess_targets(Stores_data_frame.tail(1086))"
   ]
  },
  {
   "cell_type": "code",
   "execution_count": 11,
   "metadata": {},
   "outputs": [
    {
     "data": {
      "text/html": [
       "<div>\n",
       "<style scoped>\n",
       "    .dataframe tbody tr th:only-of-type {\n",
       "        vertical-align: middle;\n",
       "    }\n",
       "\n",
       "    .dataframe tbody tr th {\n",
       "        vertical-align: top;\n",
       "    }\n",
       "\n",
       "    .dataframe thead th {\n",
       "        text-align: right;\n",
       "    }\n",
       "</style>\n",
       "<table border=\"1\" class=\"dataframe\">\n",
       "  <thead>\n",
       "    <tr style=\"text-align: right;\">\n",
       "      <th></th>\n",
       "      <th>POP_2009</th>\n",
       "      <th>PCT_LACCESS_POP10</th>\n",
       "      <th>MEDHHINC15</th>\n",
       "      <th>PER_CAPITA_INCOME</th>\n",
       "    </tr>\n",
       "  </thead>\n",
       "  <tbody>\n",
       "    <tr>\n",
       "      <th>700</th>\n",
       "      <td>15.3</td>\n",
       "      <td>3.0</td>\n",
       "      <td>53801.0</td>\n",
       "      <td>33203</td>\n",
       "    </tr>\n",
       "    <tr>\n",
       "      <th>1848</th>\n",
       "      <td>2487.8</td>\n",
       "      <td>0.0</td>\n",
       "      <td>51026.0</td>\n",
       "      <td>34202</td>\n",
       "    </tr>\n",
       "    <tr>\n",
       "      <th>2785</th>\n",
       "      <td>7.0</td>\n",
       "      <td>40.6</td>\n",
       "      <td>52206.0</td>\n",
       "      <td>29503</td>\n",
       "    </tr>\n",
       "    <tr>\n",
       "      <th>681</th>\n",
       "      <td>135.1</td>\n",
       "      <td>40.4</td>\n",
       "      <td>57747.0</td>\n",
       "      <td>36872</td>\n",
       "    </tr>\n",
       "    <tr>\n",
       "      <th>1605</th>\n",
       "      <td>9.0</td>\n",
       "      <td>41.4</td>\n",
       "      <td>56648.0</td>\n",
       "      <td>32032</td>\n",
       "    </tr>\n",
       "  </tbody>\n",
       "</table>\n",
       "</div>"
      ],
      "text/plain": [
       "      POP_2009  PCT_LACCESS_POP10  MEDHHINC15  PER_CAPITA_INCOME\n",
       "700       15.3                3.0     53801.0              33203\n",
       "1848    2487.8                0.0     51026.0              34202\n",
       "2785       7.0               40.6     52206.0              29503\n",
       "681      135.1               40.4     57747.0              36872\n",
       "1605       9.0               41.4     56648.0              32032"
      ]
     },
     "execution_count": 11,
     "metadata": {},
     "output_type": "execute_result"
    }
   ],
   "source": [
    "training_examples.head()"
   ]
  },
  {
   "cell_type": "code",
   "execution_count": 12,
   "metadata": {},
   "outputs": [],
   "source": [
    "def construct_feature_columns(input_features):\n",
    "    return set([tf.feature_column.numeric_column(my_feature)\n",
    "              for my_feature in input_features])"
   ]
  },
  {
   "cell_type": "code",
   "execution_count": 13,
   "metadata": {},
   "outputs": [],
   "source": [
    "def my_input_fn(features, targets, batch_size=1, shuffle=True, num_epochs=None):\n",
    "    # Convert pandas data into a dict of np arrays.\n",
    "    features = {key:np.array(value) for key,value in dict(features).items()}                                            \n",
    " \n",
    "    # Construct a dataset, and configure batching/repeating.\n",
    "    ds = Dataset.from_tensor_slices((features,targets)) # warning: 2GB limit\n",
    "    ds = ds.batch(batch_size).repeat(num_epochs)\n",
    "    \n",
    "    # Shuffle the data, if specified.\n",
    "    if shuffle:\n",
    "        ds = ds.shuffle(10000)\n",
    "    \n",
    "    # Return the next batch of data.\n",
    "    features, labels = ds.make_one_shot_iterator().get_next()\n",
    "    return features, labels"
   ]
  },
  {
   "cell_type": "code",
   "execution_count": 14,
   "metadata": {},
   "outputs": [],
   "source": [
    "def train_linear_classifier_model(\n",
    "    learning_rate,\n",
    "    steps,\n",
    "    batch_size,\n",
    "    training_examples,\n",
    "    training_targets,\n",
    "    validation_examples,\n",
    "    validation_targets):\n",
    "    \n",
    "    periods = 10\n",
    "    steps_per_period = steps / periods\n",
    "  \n",
    "  # Create a linear classifier object.\n",
    "    my_optimizer = tf.train.GradientDescentOptimizer(learning_rate=learning_rate)\n",
    "    my_optimizer = tf.contrib.estimator.clip_gradients_by_norm(my_optimizer, 5.0)  \n",
    "    linear_classifier = tf.estimator.LinearClassifier(\n",
    "      feature_columns=construct_feature_columns(training_examples),\n",
    "      optimizer=my_optimizer)\n",
    "  \n",
    "  # Create input functions.\n",
    "    training_input_fn = lambda: my_input_fn(training_examples, \n",
    "                                          training_targets[\"PCH_GROC_09_14\"], \n",
    "                                          batch_size=batch_size)\n",
    "    predict_training_input_fn = lambda: my_input_fn(training_examples, \n",
    "                                                  training_targets[\"PCH_GROC_09_14\"], \n",
    "                                                  num_epochs=1, \n",
    "                                                  shuffle=False)\n",
    "    predict_validation_input_fn = lambda: my_input_fn(validation_examples, \n",
    "                                                    validation_targets[\"PCH_GROC_09_14\"], \n",
    "                                                    num_epochs=1, \n",
    "                                                    shuffle=False)\n",
    "  \n",
    "  # Train the model, but do so inside a loop so that we can periodically assess\n",
    "  # loss metrics.\n",
    "    print (\"Training model...\")\n",
    "    training_log_losses = []\n",
    "    validation_log_losses = []\n",
    "    for period in range (0, periods):\n",
    "        \n",
    "        linear_classifier.train(input_fn=training_input_fn,\n",
    "                                steps=steps_per_period)\n",
    "       # Take a break and compute predictions.\n",
    "        \n",
    "        training_probabilities = linear_classifier.predict(input_fn=predict_training_input_fn)\n",
    "        training_probabilities = np.array([item['probabilities'] for item in training_probabilities])\n",
    "\n",
    "        validation_probabilities = linear_classifier.predict(input_fn=predict_validation_input_fn)\n",
    "        validation_probabilities = np.array([item['probabilities'] for item in validation_probabilities])\n",
    "\n",
    "        training_log_loss = metrics.log_loss(training_targets, training_probabilities)\n",
    "        validation_log_loss = metrics.log_loss(validation_targets, validation_probabilities)\n",
    "        # Occasionally print the current loss.\n",
    "        print(period, training_log_loss)\n",
    "        # Add the loss metrics from this period to our list.\n",
    "        training_log_losses.append(training_log_loss)\n",
    "        validation_log_losses.append(validation_log_loss)\n",
    "   \n",
    "    print (\"Model training finished.\")\n",
    "  \n",
    "  # Output a graph of loss metrics over periods.\n",
    "    plt.ylabel(\"LogLoss\")\n",
    "    plt.xlabel(\"Periods\")\n",
    "    plt.title(\"LogLoss vs. Periods\")\n",
    "    plt.tight_layout()\n",
    "    plt.plot(training_log_losses, label=\"training\")\n",
    "    plt.plot(validation_log_losses, label=\"validation\")\n",
    "    plt.legend()\n",
    "\n",
    "    return linear_classifier"
   ]
  },
  {
   "cell_type": "code",
   "execution_count": 15,
   "metadata": {},
   "outputs": [
    {
     "name": "stdout",
     "output_type": "stream",
     "text": [
      "Training model...\n",
      "0 0.685008835107\n",
      "1 0.682359784581\n",
      "2 0.686827486336\n",
      "3 0.677071133234\n",
      "4 0.676405242369\n",
      "5 0.686878128409\n",
      "6 0.681900030211\n",
      "7 0.676368676461\n",
      "8 0.677623521909\n",
      "9 0.716108919956\n",
      "Model training finished.\n"
     ]
    },
    {
     "data": {
      "image/png": "[encoded data removed]",
      "text/plain": [
       "<Figure size 432x288 with 1 Axes>"
      ]
     },
     "metadata": {},
     "output_type": "display_data"
    }
   ],
   "source": [
    "linear_classifier = train_linear_classifier_model(\n",
    "    learning_rate=0.000001,\n",
    "    steps=500,\n",
    "    batch_size=20,\n",
    "    training_examples=training_examples,\n",
    "    training_targets=training_targets,\n",
    "    validation_examples=validation_examples,\n",
    "    validation_targets=validation_targets)"
   ]
  },
  {
   "cell_type": "code",
   "execution_count": 16,
   "metadata": {},
   "outputs": [],
   "source": [
    "predict_validation_input_fn = lambda: my_input_fn(validation_examples, \n",
    "                                                    validation_targets[\"PCH_GROC_09_14\"], \n",
    "                                                    num_epochs=1, \n",
    "                                                    shuffle=False)\n",
    "evaluation_metrics = linear_classifier.evaluate(input_fn=predict_validation_input_fn)"
   ]
  },
  {
   "cell_type": "code",
   "execution_count": 17,
   "metadata": {},
   "outputs": [
    {
     "data": {
      "text/plain": [
       "0.52087367"
      ]
     },
     "execution_count": 17,
     "metadata": {},
     "output_type": "execute_result"
    }
   ],
   "source": [
    "evaluation_metrics['auc']"
   ]
  },
  {
   "cell_type": "code",
   "execution_count": 18,
   "metadata": {},
   "outputs": [
    {
     "data": {
      "text/plain": [
       "0.60128915"
      ]
     },
     "execution_count": 18,
     "metadata": {},
     "output_type": "execute_result"
    }
   ],
   "source": [
    "evaluation_metrics['accuracy']"
   ]
  },
  {
   "cell_type": "code",
   "execution_count": null,
   "metadata": {},
   "outputs": [],
   "source": []
  }
 ],
 "metadata": {
  "kernelspec": {
   "display_name": "Python 3",
   "language": "python",
   "name": "python3"
  },
  "language_info": {
   "codemirror_mode": {
    "name": "ipython",
    "version": 3
   },
   "file_extension": ".py",
   "mimetype": "text/x-python",
   "name": "python",
   "nbconvert_exporter": "python",
   "pygments_lexer": "ipython3",
   "version": "3.5.5"
  }
 },
 "nbformat": 4,
 "nbformat_minor": 2
}
